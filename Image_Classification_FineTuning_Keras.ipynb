{
  "nbformat": 4,
  "nbformat_minor": 0,
  "metadata": {
    "colab": {
      "name": "Image_Classification_FineTuning_Keras.ipynb",
      "version": "0.3.2",
      "provenance": [],
      "include_colab_link": true
    },
    "kernelspec": {
      "name": "python3",
      "display_name": "Python 3"
    },
    "accelerator": "GPU"
  },
  "cells": [
    {
      "cell_type": "markdown",
      "metadata": {
        "id": "view-in-github",
        "colab_type": "text"
      },
      "source": [
        "<a href=\"https://colab.research.google.com/github/pallavi-allada/experiments-with-data/blob/master/Image_Classification_FineTuning_Keras.ipynb\" target=\"_parent\"><img src=\"https://colab.research.google.com/assets/colab-badge.svg\" alt=\"Open In Colab\"/></a>"
      ]
    },
    {
      "cell_type": "code",
      "metadata": {
        "id": "-F9EHW_VKE5c",
        "colab_type": "code",
        "colab": {
          "base_uri": "https://localhost:8080/",
          "height": 34
        },
        "outputId": "7e18c133-e37c-4a6d-df78-3c0e0bb346f0"
      },
      "source": [
        "from keras import models\n",
        "from keras import layers\n",
        "from keras.layers import Input,Flatten,Dense,Dropout\n",
        "from keras.optimizers import SGD\n",
        "from keras.preprocessing.image import ImageDataGenerator\n",
        "from keras.applications import VGG16"
      ],
      "execution_count": 1,
      "outputs": [
        {
          "output_type": "stream",
          "text": [
            "Using TensorFlow backend.\n"
          ],
          "name": "stderr"
        }
      ]
    },
    {
      "cell_type": "markdown",
      "metadata": {
        "id": "FTAgiDrrh33X",
        "colab_type": "text"
      },
      "source": [
        "Mount Google drive for train,valid and test images"
      ]
    },
    {
      "cell_type": "code",
      "metadata": {
        "id": "kFmRBSif7rVp",
        "colab_type": "code",
        "outputId": "d8947ba4-82e4-4746-8ab9-766da9374be8",
        "colab": {
          "base_uri": "https://localhost:8080/",
          "height": 125
        }
      },
      "source": [
        "from google.colab import drive\n",
        "drive.mount('/content/drive',force_remount=True)"
      ],
      "execution_count": 2,
      "outputs": [
        {
          "output_type": "stream",
          "text": [
            "Go to this URL in a browser: https://accounts.google.com/o/oauth2/auth?client_id=947318989803-6bn6qk8qdgf4n4g3pfee6491hc0brc4i.apps.googleusercontent.com&redirect_uri=urn%3Aietf%3Awg%3Aoauth%3A2.0%3Aoob&scope=email%20https%3A%2F%2Fwww.googleapis.com%2Fauth%2Fdocs.test%20https%3A%2F%2Fwww.googleapis.com%2Fauth%2Fdrive%20https%3A%2F%2Fwww.googleapis.com%2Fauth%2Fdrive.photos.readonly%20https%3A%2F%2Fwww.googleapis.com%2Fauth%2Fpeopleapi.readonly&response_type=code\n",
            "\n",
            "Enter your authorization code:\n",
            "··········\n",
            "Mounted at /content/drive\n"
          ],
          "name": "stdout"
        }
      ]
    },
    {
      "cell_type": "markdown",
      "metadata": {
        "id": "c2iDjX6RiF15",
        "colab_type": "text"
      },
      "source": [
        "Download the base model without the head, we will add the head/classifier on top and then fine tune."
      ]
    },
    {
      "cell_type": "code",
      "metadata": {
        "id": "D_ifH1DK7-0W",
        "colab_type": "code",
        "colab": {}
      },
      "source": [
        "TRAIN_DIR = '/content/drive/My Drive/Colab Notebooks/ObjectDetection/images/classification files/train'\n",
        "VALID_DIR = '/content/drive/My Drive/Colab Notebooks/ObjectDetection/images/classification files/valid'\n",
        "TEST_DIR = '/content/drive/My Drive/Colab Notebooks/ObjectDetection/images/classification files/test'\n",
        "\n",
        "img_width = img_height =150\n",
        "base_model = VGG16(weights='imagenet',include_top=False, input_shape=(img_width,img_height,3))\n",
        "\n"
      ],
      "execution_count": 0,
      "outputs": []
    },
    {
      "cell_type": "code",
      "metadata": {
        "id": "bPY2CcHMO2z_",
        "colab_type": "code",
        "colab": {}
      },
      "source": [
        "import numpy as np\n",
        "\n",
        "train_gen = ImageDataGenerator(rescale=1./255)\n",
        "val_gen = ImageDataGenerator()\n",
        "test_gen = ImageDataGenerator()\n",
        "batchsize=4\n",
        "trainsize=240\n",
        "valsize=48\n",
        "\n",
        "mean = np.array([123.68, 116.779, 103.939], dtype=\"float32\")\n",
        "train_gen.mean = mean\n",
        "val_gen.mean = mean\n",
        "test_gen.mean=mean"
      ],
      "execution_count": 0,
      "outputs": []
    },
    {
      "cell_type": "markdown",
      "metadata": {
        "id": "nb9xl3p4iTRV",
        "colab_type": "text"
      },
      "source": [
        "Read the data from the train,valid and test folders using ImageDataGenerators\n"
      ]
    },
    {
      "cell_type": "code",
      "metadata": {
        "id": "FHpWECnkPJbO",
        "colab_type": "code",
        "outputId": "88b8373e-c1d5-427a-a522-824ef85a991f",
        "colab": {
          "base_uri": "https://localhost:8080/",
          "height": 70
        }
      },
      "source": [
        "train_data = train_gen.flow_from_directory(directory=TRAIN_DIR,\n",
        "                                   batch_size=batchsize,\n",
        "                                   target_size=(img_height,img_width),\n",
        "                                   shuffle=True,\n",
        "                                   class_mode='binary')\n",
        "\n",
        "val_data = val_gen.flow_from_directory(directory=VALID_DIR,\n",
        "                                 batch_size=batchsize,\n",
        "                                 class_mode='binary',\n",
        "                                 target_size=(img_height,img_width),\n",
        "                                 shuffle=False)\n",
        "\n",
        "test_data = test_gen.flow_from_directory(directory=TEST_DIR,\n",
        "                                        batch_size=batchsize,\n",
        "                                        target_size=(img_height,img_width),\n",
        "                                        class_mode='binary',\n",
        "                                        shuffle=False)"
      ],
      "execution_count": 23,
      "outputs": [
        {
          "output_type": "stream",
          "text": [
            "Found 240 images belonging to 2 classes.\n",
            "Found 48 images belonging to 2 classes.\n",
            "Found 4 images belonging to 1 classes.\n"
          ],
          "name": "stdout"
        }
      ]
    },
    {
      "cell_type": "markdown",
      "metadata": {
        "id": "lsqwFoUHigvv",
        "colab_type": "text"
      },
      "source": [
        "Notice the base_model does not have the FC layers as we did not include the top."
      ]
    },
    {
      "cell_type": "code",
      "metadata": {
        "id": "QLSvjdDMQx6h",
        "colab_type": "code",
        "outputId": "1f94b08e-d255-4f12-c4d5-3ad7a696b819",
        "colab": {
          "base_uri": "https://localhost:8080/",
          "height": 834
        }
      },
      "source": [
        "base_model.summary()"
      ],
      "execution_count": 24,
      "outputs": [
        {
          "output_type": "stream",
          "text": [
            "Model: \"vgg16\"\n",
            "_________________________________________________________________\n",
            "Layer (type)                 Output Shape              Param #   \n",
            "=================================================================\n",
            "input_4 (InputLayer)         (None, 150, 150, 3)       0         \n",
            "_________________________________________________________________\n",
            "block1_conv1 (Conv2D)        (None, 150, 150, 64)      1792      \n",
            "_________________________________________________________________\n",
            "block1_conv2 (Conv2D)        (None, 150, 150, 64)      36928     \n",
            "_________________________________________________________________\n",
            "block1_pool (MaxPooling2D)   (None, 75, 75, 64)        0         \n",
            "_________________________________________________________________\n",
            "block2_conv1 (Conv2D)        (None, 75, 75, 128)       73856     \n",
            "_________________________________________________________________\n",
            "block2_conv2 (Conv2D)        (None, 75, 75, 128)       147584    \n",
            "_________________________________________________________________\n",
            "block2_pool (MaxPooling2D)   (None, 37, 37, 128)       0         \n",
            "_________________________________________________________________\n",
            "block3_conv1 (Conv2D)        (None, 37, 37, 256)       295168    \n",
            "_________________________________________________________________\n",
            "block3_conv2 (Conv2D)        (None, 37, 37, 256)       590080    \n",
            "_________________________________________________________________\n",
            "block3_conv3 (Conv2D)        (None, 37, 37, 256)       590080    \n",
            "_________________________________________________________________\n",
            "block3_pool (MaxPooling2D)   (None, 18, 18, 256)       0         \n",
            "_________________________________________________________________\n",
            "block4_conv1 (Conv2D)        (None, 18, 18, 512)       1180160   \n",
            "_________________________________________________________________\n",
            "block4_conv2 (Conv2D)        (None, 18, 18, 512)       2359808   \n",
            "_________________________________________________________________\n",
            "block4_conv3 (Conv2D)        (None, 18, 18, 512)       2359808   \n",
            "_________________________________________________________________\n",
            "block4_pool (MaxPooling2D)   (None, 9, 9, 512)         0         \n",
            "_________________________________________________________________\n",
            "block5_conv1 (Conv2D)        (None, 9, 9, 512)         2359808   \n",
            "_________________________________________________________________\n",
            "block5_conv2 (Conv2D)        (None, 9, 9, 512)         2359808   \n",
            "_________________________________________________________________\n",
            "block5_conv3 (Conv2D)        (None, 9, 9, 512)         2359808   \n",
            "_________________________________________________________________\n",
            "block5_pool (MaxPooling2D)   (None, 4, 4, 512)         0         \n",
            "=================================================================\n",
            "Total params: 14,714,688\n",
            "Trainable params: 14,714,688\n",
            "Non-trainable params: 0\n",
            "_________________________________________________________________\n"
          ],
          "name": "stdout"
        }
      ]
    },
    {
      "cell_type": "markdown",
      "metadata": {
        "id": "Pl1VpQl9inJR",
        "colab_type": "text"
      },
      "source": [
        "Add FC layers to the base model, setting the trainable param of non-FC layers to False\n",
        "\n"
      ]
    },
    {
      "cell_type": "code",
      "metadata": {
        "id": "c5vB57x8M7z1",
        "colab_type": "code",
        "outputId": "8e98a6b3-43a0-40ab-a880-0893a6ab6698",
        "colab": {
          "base_uri": "https://localhost:8080/",
          "height": 532
        }
      },
      "source": [
        "new_model = models.Sequential()\n",
        "new_model.add(base_model)\n",
        "new_model.add(Flatten())\n",
        "new_model.add(layers.Dense(512,activation='relu'))\n",
        "new_model.add(layers.Dropout(0.5))\n",
        "new_model.add(layers.Dense(256,activation='relu'))\n",
        "new_model.add(layers.Dropout(0.5))\n",
        "new_model.add(layers.Dense(1,activation='sigmoid'))\n",
        "for layer in new_model.layers[:-6]:\n",
        "  layer.trainable=False\n",
        "for layer in new_model.layers:\n",
        "  print(layer, layer.trainable)\n",
        "\n",
        "new_model.summary()"
      ],
      "execution_count": 33,
      "outputs": [
        {
          "output_type": "stream",
          "text": [
            "<keras.engine.training.Model object at 0x7f83c4e961d0> False\n",
            "<keras.layers.core.Flatten object at 0x7f83c587bcc0> True\n",
            "<keras.layers.core.Dense object at 0x7f83c58545c0> True\n",
            "<keras.layers.core.Dropout object at 0x7f83c5854f28> True\n",
            "<keras.layers.core.Dense object at 0x7f83c57b2be0> True\n",
            "<keras.layers.core.Dropout object at 0x7f83c57b2630> True\n",
            "<keras.layers.core.Dense object at 0x7f83c57e0908> True\n",
            "Model: \"sequential_11\"\n",
            "_________________________________________________________________\n",
            "Layer (type)                 Output Shape              Param #   \n",
            "=================================================================\n",
            "vgg16 (Model)                (None, 4, 4, 512)         14714688  \n",
            "_________________________________________________________________\n",
            "flatten_11 (Flatten)         (None, 8192)              0         \n",
            "_________________________________________________________________\n",
            "dense_15 (Dense)             (None, 512)               4194816   \n",
            "_________________________________________________________________\n",
            "dropout_9 (Dropout)          (None, 512)               0         \n",
            "_________________________________________________________________\n",
            "dense_16 (Dense)             (None, 256)               131328    \n",
            "_________________________________________________________________\n",
            "dropout_10 (Dropout)         (None, 256)               0         \n",
            "_________________________________________________________________\n",
            "dense_17 (Dense)             (None, 1)                 257       \n",
            "=================================================================\n",
            "Total params: 19,041,089\n",
            "Trainable params: 4,326,401\n",
            "Non-trainable params: 14,714,688\n",
            "_________________________________________________________________\n"
          ],
          "name": "stdout"
        }
      ]
    },
    {
      "cell_type": "markdown",
      "metadata": {
        "id": "F0483DopjT7g",
        "colab_type": "text"
      },
      "source": [
        "Compile the model and train for 50 epochs"
      ]
    },
    {
      "cell_type": "code",
      "metadata": {
        "id": "5dllFo7POJLb",
        "colab_type": "code",
        "colab": {}
      },
      "source": [
        "new_model.compile(loss='binary_crossentropy',optimizer=SGD(lr=1e-03),metrics=['accuracy'])"
      ],
      "execution_count": 0,
      "outputs": []
    },
    {
      "cell_type": "code",
      "metadata": {
        "id": "qMrEFRm1vq2y",
        "colab_type": "code",
        "outputId": "95459a88-9518-4a7a-b217-b5b30858d4a7",
        "colab": {
          "base_uri": "https://localhost:8080/",
          "height": 1000
        }
      },
      "source": [
        "history = new_model.fit_generator(train_data,\n",
        "                       steps_per_epoch=trainsize//batchsize,\n",
        "                       validation_data=val_data,\n",
        "                       validation_steps=valsize//batchsize,\n",
        "                       epochs=50)\n"
      ],
      "execution_count": 36,
      "outputs": [
        {
          "output_type": "stream",
          "text": [
            "Epoch 1/50\n"
          ],
          "name": "stdout"
        },
        {
          "output_type": "stream",
          "text": [
            "/usr/local/lib/python3.6/dist-packages/PIL/Image.py:914: UserWarning: Palette images with Transparency   expressed in bytes should be converted to RGBA images\n",
            "  'to RGBA images')\n"
          ],
          "name": "stderr"
        },
        {
          "output_type": "stream",
          "text": [
            "60/60 [==============================] - 6s 100ms/step - loss: 0.7497 - acc: 0.5375 - val_loss: 3.9523 - val_acc: 0.6042\n",
            "Epoch 2/50\n",
            "60/60 [==============================] - 5s 80ms/step - loss: 0.6567 - acc: 0.6000 - val_loss: 2.5172 - val_acc: 0.6875\n",
            "Epoch 3/50\n",
            "60/60 [==============================] - 5s 83ms/step - loss: 0.5500 - acc: 0.7000 - val_loss: 2.0055 - val_acc: 0.7292\n",
            "Epoch 4/50\n",
            "60/60 [==============================] - 5s 83ms/step - loss: 0.5253 - acc: 0.7292 - val_loss: 1.6789 - val_acc: 0.8542\n",
            "Epoch 5/50\n",
            "60/60 [==============================] - 5s 81ms/step - loss: 0.5377 - acc: 0.7083 - val_loss: 1.6763 - val_acc: 0.8542\n",
            "Epoch 6/50\n",
            "60/60 [==============================] - 5s 81ms/step - loss: 0.4789 - acc: 0.7458 - val_loss: 1.5696 - val_acc: 0.8542\n",
            "Epoch 7/50\n",
            "60/60 [==============================] - 5s 82ms/step - loss: 0.4673 - acc: 0.7833 - val_loss: 1.6005 - val_acc: 0.8542\n",
            "Epoch 8/50\n",
            "60/60 [==============================] - 5s 82ms/step - loss: 0.4195 - acc: 0.8250 - val_loss: 1.6362 - val_acc: 0.8333\n",
            "Epoch 9/50\n",
            "60/60 [==============================] - 5s 81ms/step - loss: 0.4366 - acc: 0.8167 - val_loss: 1.6183 - val_acc: 0.8542\n",
            "Epoch 10/50\n",
            "60/60 [==============================] - 5s 81ms/step - loss: 0.4136 - acc: 0.7917 - val_loss: 1.7132 - val_acc: 0.8333\n",
            "Epoch 11/50\n",
            "60/60 [==============================] - 5s 80ms/step - loss: 0.3757 - acc: 0.8500 - val_loss: 1.6789 - val_acc: 0.8333\n",
            "Epoch 12/50\n",
            "60/60 [==============================] - 5s 80ms/step - loss: 0.3822 - acc: 0.8500 - val_loss: 1.8167 - val_acc: 0.8125\n",
            "Epoch 13/50\n",
            "60/60 [==============================] - 5s 81ms/step - loss: 0.3510 - acc: 0.8583 - val_loss: 1.7331 - val_acc: 0.8333\n",
            "Epoch 14/50\n",
            "60/60 [==============================] - 5s 80ms/step - loss: 0.4070 - acc: 0.8375 - val_loss: 1.9035 - val_acc: 0.8333\n",
            "Epoch 15/50\n",
            "60/60 [==============================] - 5s 79ms/step - loss: 0.3413 - acc: 0.8667 - val_loss: 1.8685 - val_acc: 0.8333\n",
            "Epoch 16/50\n",
            "60/60 [==============================] - 5s 82ms/step - loss: 0.3762 - acc: 0.8458 - val_loss: 1.7702 - val_acc: 0.8333\n",
            "Epoch 17/50\n",
            "60/60 [==============================] - 5s 82ms/step - loss: 0.3260 - acc: 0.8583 - val_loss: 1.8597 - val_acc: 0.8333\n",
            "Epoch 18/50\n",
            "60/60 [==============================] - 5s 81ms/step - loss: 0.3118 - acc: 0.8875 - val_loss: 1.8672 - val_acc: 0.8125\n",
            "Epoch 19/50\n",
            "60/60 [==============================] - 5s 80ms/step - loss: 0.3245 - acc: 0.8708 - val_loss: 1.9364 - val_acc: 0.8333\n",
            "Epoch 20/50\n",
            "60/60 [==============================] - 5s 84ms/step - loss: 0.2906 - acc: 0.8958 - val_loss: 1.9543 - val_acc: 0.8333\n",
            "Epoch 21/50\n",
            "60/60 [==============================] - 5s 81ms/step - loss: 0.2808 - acc: 0.8875 - val_loss: 2.1503 - val_acc: 0.8125\n",
            "Epoch 22/50\n",
            "60/60 [==============================] - 5s 83ms/step - loss: 0.2709 - acc: 0.9000 - val_loss: 2.0971 - val_acc: 0.8125\n",
            "Epoch 23/50\n",
            "60/60 [==============================] - 5s 80ms/step - loss: 0.2573 - acc: 0.9083 - val_loss: 2.0895 - val_acc: 0.8333\n",
            "Epoch 24/50\n",
            "60/60 [==============================] - 5s 83ms/step - loss: 0.2829 - acc: 0.9083 - val_loss: 2.1411 - val_acc: 0.8125\n",
            "Epoch 25/50\n",
            "60/60 [==============================] - 5s 82ms/step - loss: 0.2658 - acc: 0.9083 - val_loss: 2.1517 - val_acc: 0.8125\n",
            "Epoch 26/50\n",
            "60/60 [==============================] - 5s 84ms/step - loss: 0.2780 - acc: 0.8958 - val_loss: 2.1495 - val_acc: 0.8333\n",
            "Epoch 27/50\n",
            "60/60 [==============================] - 5s 81ms/step - loss: 0.2345 - acc: 0.9208 - val_loss: 2.2544 - val_acc: 0.8333\n",
            "Epoch 28/50\n",
            "60/60 [==============================] - 5s 81ms/step - loss: 0.2436 - acc: 0.8917 - val_loss: 2.1504 - val_acc: 0.8333\n",
            "Epoch 29/50\n",
            "60/60 [==============================] - 5s 81ms/step - loss: 0.2413 - acc: 0.9292 - val_loss: 2.1821 - val_acc: 0.8333\n",
            "Epoch 30/50\n",
            "60/60 [==============================] - 5s 81ms/step - loss: 0.2429 - acc: 0.8917 - val_loss: 2.1231 - val_acc: 0.8542\n",
            "Epoch 31/50\n",
            "60/60 [==============================] - 5s 82ms/step - loss: 0.2121 - acc: 0.9250 - val_loss: 2.2053 - val_acc: 0.8333\n",
            "Epoch 32/50\n",
            "60/60 [==============================] - 5s 81ms/step - loss: 0.2269 - acc: 0.9250 - val_loss: 2.1532 - val_acc: 0.8333\n",
            "Epoch 33/50\n",
            "60/60 [==============================] - 5s 81ms/step - loss: 0.2129 - acc: 0.9375 - val_loss: 2.1533 - val_acc: 0.8333\n",
            "Epoch 34/50\n",
            "60/60 [==============================] - 5s 83ms/step - loss: 0.2215 - acc: 0.9125 - val_loss: 2.1568 - val_acc: 0.8125\n",
            "Epoch 35/50\n",
            "60/60 [==============================] - 5s 81ms/step - loss: 0.2026 - acc: 0.9250 - val_loss: 2.1675 - val_acc: 0.8333\n",
            "Epoch 36/50\n",
            "60/60 [==============================] - 5s 80ms/step - loss: 0.1916 - acc: 0.9500 - val_loss: 2.1607 - val_acc: 0.8333\n",
            "Epoch 37/50\n",
            "60/60 [==============================] - 5s 80ms/step - loss: 0.2037 - acc: 0.9292 - val_loss: 2.1730 - val_acc: 0.8333\n",
            "Epoch 38/50\n",
            "60/60 [==============================] - 5s 81ms/step - loss: 0.1925 - acc: 0.9500 - val_loss: 2.1711 - val_acc: 0.8333\n",
            "Epoch 39/50\n",
            "60/60 [==============================] - 5s 84ms/step - loss: 0.1918 - acc: 0.9250 - val_loss: 2.1975 - val_acc: 0.8333\n",
            "Epoch 40/50\n",
            "60/60 [==============================] - 5s 82ms/step - loss: 0.1743 - acc: 0.9292 - val_loss: 2.1551 - val_acc: 0.8333\n",
            "Epoch 41/50\n",
            "60/60 [==============================] - 5s 83ms/step - loss: 0.1615 - acc: 0.9458 - val_loss: 2.1446 - val_acc: 0.8333\n",
            "Epoch 42/50\n",
            "60/60 [==============================] - 5s 80ms/step - loss: 0.1542 - acc: 0.9458 - val_loss: 2.1830 - val_acc: 0.8333\n",
            "Epoch 43/50\n",
            "60/60 [==============================] - 5s 80ms/step - loss: 0.1446 - acc: 0.9542 - val_loss: 2.1898 - val_acc: 0.8333\n",
            "Epoch 44/50\n",
            "60/60 [==============================] - 5s 81ms/step - loss: 0.1576 - acc: 0.9542 - val_loss: 2.1909 - val_acc: 0.8333\n",
            "Epoch 45/50\n",
            "60/60 [==============================] - 5s 82ms/step - loss: 0.1607 - acc: 0.9417 - val_loss: 2.2046 - val_acc: 0.8333\n",
            "Epoch 46/50\n",
            "60/60 [==============================] - 5s 81ms/step - loss: 0.1363 - acc: 0.9625 - val_loss: 2.1918 - val_acc: 0.8333\n",
            "Epoch 47/50\n",
            "60/60 [==============================] - 5s 81ms/step - loss: 0.1598 - acc: 0.9458 - val_loss: 2.2077 - val_acc: 0.8333\n",
            "Epoch 48/50\n",
            "60/60 [==============================] - 5s 81ms/step - loss: 0.1252 - acc: 0.9583 - val_loss: 2.2495 - val_acc: 0.8333\n",
            "Epoch 49/50\n",
            "60/60 [==============================] - 5s 79ms/step - loss: 0.1545 - acc: 0.9458 - val_loss: 2.2440 - val_acc: 0.8125\n",
            "Epoch 50/50\n",
            "60/60 [==============================] - 5s 81ms/step - loss: 0.1311 - acc: 0.9583 - val_loss: 2.2464 - val_acc: 0.8333\n"
          ],
          "name": "stdout"
        }
      ]
    },
    {
      "cell_type": "markdown",
      "metadata": {
        "id": "ZT-X6OwNjjtA",
        "colab_type": "text"
      },
      "source": [
        "set base_model trainable to True and fine tune as well for 10 epochs."
      ]
    },
    {
      "cell_type": "code",
      "metadata": {
        "id": "5TEWzITSkoFO",
        "colab_type": "code",
        "colab": {
          "base_uri": "https://localhost:8080/",
          "height": 478
        },
        "outputId": "b14a8fc4-67c7-402d-ba9b-38b15e24004d"
      },
      "source": [
        "for layer in base_model.layers[:-4]:\n",
        "  layer.trainable=True\n",
        "  \n",
        "new_model = models.Sequential()\n",
        "new_model.add(base_model)\n",
        "new_model.add(Flatten())\n",
        "new_model.add(layers.Dense(512,activation='relu'))\n",
        "new_model.add(layers.Dropout(0.5))\n",
        "new_model.add(layers.Dense(256,activation='relu'))\n",
        "new_model.add(layers.Dropout(0.5))\n",
        "new_model.add(layers.Dense(1,activation='sigmoid'))\n",
        "\n",
        "for layer in new_model.layers:\n",
        "  layer.trainable=True\n",
        "  print(layer, layer.trainable)\n",
        "\n",
        "for layer in new_model.layers[-7].layers:\n",
        "  print(layer, layer.trainable)\n",
        "  \n"
      ],
      "execution_count": 42,
      "outputs": [
        {
          "output_type": "stream",
          "text": [
            "<keras.engine.training.Model object at 0x7f83c4e961d0> True\n",
            "<keras.layers.core.Flatten object at 0x7f83c44e8ba8> True\n",
            "<keras.layers.core.Dense object at 0x7f83c44e8c18> True\n",
            "<keras.layers.core.Dropout object at 0x7f83c44e8b70> True\n",
            "<keras.layers.core.Dense object at 0x7f83c4462320> True\n",
            "<keras.layers.core.Dropout object at 0x7f83c44625c0> True\n",
            "<keras.layers.core.Dense object at 0x7f83c43fda90> True\n",
            "<keras.engine.input_layer.InputLayer object at 0x7f83c5012320> True\n",
            "<keras.layers.convolutional.Conv2D object at 0x7f83c502a048> True\n",
            "<keras.layers.convolutional.Conv2D object at 0x7f83c502a1d0> True\n",
            "<keras.layers.pooling.MaxPooling2D object at 0x7f83c502aac8> True\n",
            "<keras.layers.convolutional.Conv2D object at 0x7f83c502af28> True\n",
            "<keras.layers.convolutional.Conv2D object at 0x7f83c4fd5e48> True\n",
            "<keras.layers.pooling.MaxPooling2D object at 0x7f83c4fe76a0> True\n",
            "<keras.layers.convolutional.Conv2D object at 0x7f83c4fe77f0> True\n",
            "<keras.layers.convolutional.Conv2D object at 0x7f83c4f99c50> True\n",
            "<keras.layers.convolutional.Conv2D object at 0x7f83c4f30e80> True\n",
            "<keras.layers.pooling.MaxPooling2D object at 0x7f83c4f42a20> True\n",
            "<keras.layers.convolutional.Conv2D object at 0x7f83c4f5b080> True\n",
            "<keras.layers.convolutional.Conv2D object at 0x7f83c4ef7240> True\n",
            "<keras.layers.convolutional.Conv2D object at 0x7f83c4f08ba8> True\n",
            "<keras.layers.pooling.MaxPooling2D object at 0x7f83c4f1fef0> True\n",
            "<keras.layers.convolutional.Conv2D object at 0x7f83c4eb9668> True\n",
            "<keras.layers.convolutional.Conv2D object at 0x7f83c4ee3320> True\n",
            "<keras.layers.convolutional.Conv2D object at 0x7f83c4ee3ba8> True\n",
            "<keras.layers.pooling.MaxPooling2D object at 0x7f83c4e96b70> True\n"
          ],
          "name": "stdout"
        }
      ]
    },
    {
      "cell_type": "code",
      "metadata": {
        "id": "eHHZxNLxm0Lu",
        "colab_type": "code",
        "colab": {
          "base_uri": "https://localhost:8080/",
          "height": 1000
        },
        "outputId": "c6e472d7-fac5-43f1-c244-2b1db12227b6"
      },
      "source": [
        "new_model.compile(loss='binary_crossentropy',optimizer=SGD(lr=1e-03),metrics=['accuracy'])\n",
        "history = new_model.fit_generator(train_data,\n",
        "                       steps_per_epoch=trainsize//batchsize,\n",
        "                       validation_data=val_data,\n",
        "                       validation_steps=valsize//batchsize,\n",
        "                       epochs=50)\n"
      ],
      "execution_count": 44,
      "outputs": [
        {
          "output_type": "stream",
          "text": [
            "Epoch 1/50\n"
          ],
          "name": "stdout"
        },
        {
          "output_type": "stream",
          "text": [
            "/usr/local/lib/python3.6/dist-packages/PIL/Image.py:914: UserWarning: Palette images with Transparency   expressed in bytes should be converted to RGBA images\n",
            "  'to RGBA images')\n"
          ],
          "name": "stderr"
        },
        {
          "output_type": "stream",
          "text": [
            "60/60 [==============================] - 11s 191ms/step - loss: 0.7560 - acc: 0.5333 - val_loss: 5.2828 - val_acc: 0.5000\n",
            "Epoch 2/50\n",
            "60/60 [==============================] - 8s 138ms/step - loss: 0.6005 - acc: 0.7292 - val_loss: 4.6911 - val_acc: 0.5833\n",
            "Epoch 3/50\n",
            "60/60 [==============================] - 8s 139ms/step - loss: 0.4677 - acc: 0.7917 - val_loss: 3.4657 - val_acc: 0.6875\n",
            "Epoch 4/50\n",
            "60/60 [==============================] - 8s 139ms/step - loss: 0.3703 - acc: 0.8500 - val_loss: 2.4393 - val_acc: 0.8333\n",
            "Epoch 5/50\n",
            "60/60 [==============================] - 8s 139ms/step - loss: 0.3152 - acc: 0.8667 - val_loss: 2.2551 - val_acc: 0.8333\n",
            "Epoch 6/50\n",
            "60/60 [==============================] - 8s 139ms/step - loss: 0.2025 - acc: 0.9333 - val_loss: 4.1052 - val_acc: 0.7292\n",
            "Epoch 7/50\n",
            "60/60 [==============================] - 8s 138ms/step - loss: 0.2630 - acc: 0.9125 - val_loss: 2.5310 - val_acc: 0.8125\n",
            "Epoch 8/50\n",
            "60/60 [==============================] - 8s 139ms/step - loss: 0.1810 - acc: 0.9500 - val_loss: 4.3370 - val_acc: 0.7083\n",
            "Epoch 9/50\n",
            "60/60 [==============================] - 8s 138ms/step - loss: 0.1675 - acc: 0.9375 - val_loss: 5.0917 - val_acc: 0.6667\n",
            "Epoch 10/50\n",
            "60/60 [==============================] - 8s 138ms/step - loss: 0.1233 - acc: 0.9542 - val_loss: 4.0614 - val_acc: 0.7083\n",
            "Epoch 11/50\n",
            "60/60 [==============================] - 8s 138ms/step - loss: 0.1169 - acc: 0.9750 - val_loss: 2.3286 - val_acc: 0.8542\n",
            "Epoch 12/50\n",
            "60/60 [==============================] - 8s 137ms/step - loss: 0.0842 - acc: 0.9750 - val_loss: 2.6056 - val_acc: 0.8125\n",
            "Epoch 13/50\n",
            "60/60 [==============================] - 8s 138ms/step - loss: 0.0361 - acc: 0.9958 - val_loss: 2.2988 - val_acc: 0.8542\n",
            "Epoch 14/50\n",
            "60/60 [==============================] - 8s 139ms/step - loss: 0.0525 - acc: 0.9708 - val_loss: 1.7751 - val_acc: 0.8750\n",
            "Epoch 15/50\n",
            "60/60 [==============================] - 8s 138ms/step - loss: 0.0274 - acc: 0.9958 - val_loss: 2.3249 - val_acc: 0.8542\n",
            "Epoch 16/50\n",
            "60/60 [==============================] - 8s 138ms/step - loss: 0.0140 - acc: 1.0000 - val_loss: 2.3404 - val_acc: 0.8333\n",
            "Epoch 17/50\n",
            "60/60 [==============================] - 8s 137ms/step - loss: 0.0283 - acc: 0.9875 - val_loss: 2.1596 - val_acc: 0.8542\n",
            "Epoch 18/50\n",
            "60/60 [==============================] - 8s 138ms/step - loss: 0.0848 - acc: 0.9792 - val_loss: 1.3722 - val_acc: 0.8750\n",
            "Epoch 19/50\n",
            "60/60 [==============================] - 8s 138ms/step - loss: 0.0121 - acc: 1.0000 - val_loss: 2.0357 - val_acc: 0.8542\n",
            "Epoch 20/50\n",
            "60/60 [==============================] - 8s 138ms/step - loss: 0.0101 - acc: 1.0000 - val_loss: 1.9965 - val_acc: 0.8750\n",
            "Epoch 21/50\n",
            "60/60 [==============================] - 8s 138ms/step - loss: 0.0147 - acc: 0.9917 - val_loss: 1.3536 - val_acc: 0.8958\n",
            "Epoch 22/50\n",
            "60/60 [==============================] - 8s 138ms/step - loss: 0.0065 - acc: 1.0000 - val_loss: 1.2222 - val_acc: 0.9167\n",
            "Epoch 23/50\n",
            "60/60 [==============================] - 8s 137ms/step - loss: 0.0036 - acc: 1.0000 - val_loss: 1.3322 - val_acc: 0.9167\n",
            "Epoch 24/50\n",
            "60/60 [==============================] - 8s 139ms/step - loss: 0.0048 - acc: 1.0000 - val_loss: 1.0001 - val_acc: 0.9375\n",
            "Epoch 25/50\n",
            "60/60 [==============================] - 8s 138ms/step - loss: 0.0025 - acc: 1.0000 - val_loss: 1.0001 - val_acc: 0.9375\n",
            "Epoch 26/50\n",
            "60/60 [==============================] - 8s 137ms/step - loss: 0.0034 - acc: 1.0000 - val_loss: 1.0001 - val_acc: 0.9375\n",
            "Epoch 27/50\n",
            "60/60 [==============================] - 8s 138ms/step - loss: 0.0020 - acc: 1.0000 - val_loss: 1.1537 - val_acc: 0.9167\n",
            "Epoch 28/50\n",
            "60/60 [==============================] - 8s 138ms/step - loss: 0.0020 - acc: 1.0000 - val_loss: 1.0001 - val_acc: 0.9375\n",
            "Epoch 29/50\n",
            "60/60 [==============================] - 8s 137ms/step - loss: 0.0078 - acc: 0.9958 - val_loss: 1.8451 - val_acc: 0.8750\n",
            "Epoch 30/50\n",
            "60/60 [==============================] - 8s 138ms/step - loss: 0.0025 - acc: 1.0000 - val_loss: 1.2293 - val_acc: 0.9167\n",
            "Epoch 31/50\n",
            "60/60 [==============================] - 8s 138ms/step - loss: 0.1921 - acc: 0.9583 - val_loss: 2.3057 - val_acc: 0.8542\n",
            "Epoch 32/50\n",
            "60/60 [==============================] - 8s 138ms/step - loss: 0.0212 - acc: 1.0000 - val_loss: 2.2866 - val_acc: 0.8542\n",
            "Epoch 33/50\n",
            "60/60 [==============================] - 8s 138ms/step - loss: 0.0069 - acc: 1.0000 - val_loss: 2.3105 - val_acc: 0.8542\n",
            "Epoch 34/50\n",
            "60/60 [==============================] - 8s 138ms/step - loss: 0.0063 - acc: 1.0000 - val_loss: 1.9693 - val_acc: 0.8333\n",
            "Epoch 35/50\n",
            "60/60 [==============================] - 8s 138ms/step - loss: 0.0035 - acc: 1.0000 - val_loss: 1.6643 - val_acc: 0.8958\n",
            "Epoch 36/50\n",
            "60/60 [==============================] - 8s 138ms/step - loss: 0.0022 - acc: 1.0000 - val_loss: 1.6643 - val_acc: 0.8958\n",
            "Epoch 37/50\n",
            "60/60 [==============================] - 8s 138ms/step - loss: 0.0053 - acc: 1.0000 - val_loss: 1.7950 - val_acc: 0.8750\n",
            "Epoch 38/50\n",
            "60/60 [==============================] - 8s 138ms/step - loss: 0.0017 - acc: 1.0000 - val_loss: 1.6643 - val_acc: 0.8958\n",
            "Epoch 39/50\n",
            "60/60 [==============================] - 8s 138ms/step - loss: 0.0015 - acc: 1.0000 - val_loss: 1.9294 - val_acc: 0.8750\n",
            "Epoch 40/50\n",
            "60/60 [==============================] - 8s 138ms/step - loss: 0.0012 - acc: 1.0000 - val_loss: 1.6662 - val_acc: 0.8958\n",
            "Epoch 41/50\n",
            "60/60 [==============================] - 8s 138ms/step - loss: 0.0018 - acc: 1.0000 - val_loss: 1.6610 - val_acc: 0.8958\n",
            "Epoch 42/50\n",
            "60/60 [==============================] - 8s 138ms/step - loss: 0.0032 - acc: 1.0000 - val_loss: 1.1713 - val_acc: 0.9167\n",
            "Epoch 43/50\n",
            "60/60 [==============================] - 8s 137ms/step - loss: 0.0015 - acc: 1.0000 - val_loss: 1.6607 - val_acc: 0.8958\n",
            "Epoch 44/50\n",
            "60/60 [==============================] - 8s 137ms/step - loss: 0.0014 - acc: 1.0000 - val_loss: 1.6651 - val_acc: 0.8958\n",
            "Epoch 45/50\n",
            "60/60 [==============================] - 8s 137ms/step - loss: 9.8433e-04 - acc: 1.0000 - val_loss: 1.6651 - val_acc: 0.8958\n",
            "Epoch 46/50\n",
            "60/60 [==============================] - 8s 138ms/step - loss: 0.0014 - acc: 1.0000 - val_loss: 1.6866 - val_acc: 0.8750\n",
            "Epoch 47/50\n",
            "60/60 [==============================] - 8s 137ms/step - loss: 0.0014 - acc: 1.0000 - val_loss: 1.6607 - val_acc: 0.8958\n",
            "Epoch 48/50\n",
            "60/60 [==============================] - 8s 138ms/step - loss: 9.2678e-04 - acc: 1.0000 - val_loss: 1.6607 - val_acc: 0.8958\n",
            "Epoch 49/50\n",
            "60/60 [==============================] - 8s 137ms/step - loss: 0.0019 - acc: 1.0000 - val_loss: 1.6607 - val_acc: 0.8958\n",
            "Epoch 50/50\n",
            "60/60 [==============================] - 8s 137ms/step - loss: 7.8232e-04 - acc: 1.0000 - val_loss: 1.6607 - val_acc: 0.8958\n"
          ],
          "name": "stdout"
        }
      ]
    },
    {
      "cell_type": "code",
      "metadata": {
        "id": "inB7FTeaxaUS",
        "colab_type": "code",
        "colab": {}
      },
      "source": [
        "# test_data.reset()\n",
        "# predIdxs = new_model.predict_generator(test_data)\n",
        "# # predIdxs = np.argmax(predIdxs, axis=1)\n",
        "# print(predIdxs)\n",
        "# # print(classification_report(test_data.classes, predIdxs,\n",
        "# # \ttarget_names=test_data.class_indices.keys()))\n",
        "                        "
      ],
      "execution_count": 0,
      "outputs": []
    },
    {
      "cell_type": "code",
      "metadata": {
        "id": "k3We_XHL18SJ",
        "colab_type": "code",
        "colab": {}
      },
      "source": [
        ""
      ],
      "execution_count": 0,
      "outputs": []
    }
  ]
}