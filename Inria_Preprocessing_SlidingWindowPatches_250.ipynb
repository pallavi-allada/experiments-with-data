{
  "nbformat": 4,
  "nbformat_minor": 0,
  "metadata": {
    "colab": {
      "name": "Inria_Preprocessing_SlidingWindowPatches_250.ipynb",
      "version": "0.3.2",
      "provenance": [],
      "collapsed_sections": [],
      "toc_visible": true
    },
    "kernelspec": {
      "name": "python3",
      "display_name": "Python 3"
    },
    "accelerator": "GPU"
  },
  "cells": [
    {
      "cell_type": "markdown",
      "metadata": {
        "id": "2oKeh2HQXcPY",
        "colab_type": "text"
      },
      "source": [
        "## **Inria Aerial Satellite Image Labelling**\n",
        "The main aim of this challenge is to be able to classify pixels as 'building' or 'not building'. This is a clear case of semantic segmentation. We have180 aerial images from various cities with a resolution of 5000 X 5000, along with the segmented masks of 5000 X 5000. Our goal is to classify each of the pixels in the test image and generate a masks for the test images too."
      ]
    },
    {
      "cell_type": "code",
      "metadata": {
        "id": "VqCQtcktF0kR",
        "colab_type": "code",
        "outputId": "ee3ad487-3cba-4acc-faea-b1cada8df2a9",
        "colab": {
          "base_uri": "https://localhost:8080/",
          "height": 377
        }
      },
      "source": [
        "!curl -s https://course.fast.ai/setup/colab | bash\n",
        "!pip install PyDrive"
      ],
      "execution_count": 1,
      "outputs": [
        {
          "output_type": "stream",
          "text": [
            "Updating fastai...\n",
            "Done.\n",
            "Collecting PyDrive\n",
            "\u001b[?25l  Downloading https://files.pythonhosted.org/packages/52/e0/0e64788e5dd58ce2d6934549676243dc69d982f198524be9b99e9c2a4fd5/PyDrive-1.3.1.tar.gz (987kB)\n",
            "\u001b[K     |████████████████████████████████| 993kB 8.9MB/s \n",
            "\u001b[?25hRequirement already satisfied: google-api-python-client>=1.2 in /usr/local/lib/python3.6/dist-packages (from PyDrive) (1.6.7)\n",
            "Requirement already satisfied: oauth2client>=4.0.0 in /usr/local/lib/python3.6/dist-packages (from PyDrive) (4.1.3)\n",
            "Requirement already satisfied: PyYAML>=3.0 in /usr/local/lib/python3.6/dist-packages (from PyDrive) (3.13)\n",
            "Requirement already satisfied: six<2dev,>=1.6.1 in /usr/local/lib/python3.6/dist-packages (from google-api-python-client>=1.2->PyDrive) (1.12.0)\n",
            "Requirement already satisfied: uritemplate<4dev,>=3.0.0 in /usr/local/lib/python3.6/dist-packages (from google-api-python-client>=1.2->PyDrive) (3.0.0)\n",
            "Requirement already satisfied: httplib2<1dev,>=0.9.2 in /usr/local/lib/python3.6/dist-packages (from google-api-python-client>=1.2->PyDrive) (0.11.3)\n",
            "Requirement already satisfied: pyasn1-modules>=0.0.5 in /usr/local/lib/python3.6/dist-packages (from oauth2client>=4.0.0->PyDrive) (0.2.5)\n",
            "Requirement already satisfied: rsa>=3.1.4 in /usr/local/lib/python3.6/dist-packages (from oauth2client>=4.0.0->PyDrive) (4.0)\n",
            "Requirement already satisfied: pyasn1>=0.1.7 in /usr/local/lib/python3.6/dist-packages (from oauth2client>=4.0.0->PyDrive) (0.4.5)\n",
            "Building wheels for collected packages: PyDrive\n",
            "  Building wheel for PyDrive (setup.py) ... \u001b[?25l\u001b[?25hdone\n",
            "  Stored in directory: /root/.cache/pip/wheels/fa/d2/9a/d3b6b506c2da98289e5d417215ce34b696db856643bad779f4\n",
            "Successfully built PyDrive\n",
            "Installing collected packages: PyDrive\n",
            "Successfully installed PyDrive-1.3.1\n"
          ],
          "name": "stdout"
        }
      ]
    },
    {
      "cell_type": "code",
      "metadata": {
        "id": "1x10JWzM1BGR",
        "colab_type": "code",
        "colab": {}
      },
      "source": [
        "%reload_ext autoreload\n",
        "%autoreload 2\n",
        "%matplotlib inline"
      ],
      "execution_count": 0,
      "outputs": []
    },
    {
      "cell_type": "code",
      "metadata": {
        "id": "L4weziruaEBV",
        "colab_type": "code",
        "colab": {}
      },
      "source": [
        "import tarfile,re,os,pathlib,shutil\n",
        "\n",
        "import fastai\n",
        "from fastai.vision import *\n",
        "import torch\n",
        "import torchvision.transforms.functional as F\n",
        "\n",
        "from pydrive.auth import GoogleAuth\n",
        "from pydrive.drive import GoogleDrive\n",
        "from google.colab import auth\n",
        "from oauth2client.client import GoogleCredentials\n",
        "\n",
        "auth.authenticate_user()\n",
        "gauth = GoogleAuth()\n",
        "gauth.credentials = GoogleCredentials.get_application_default()\n",
        "drive = GoogleDrive(gauth)"
      ],
      "execution_count": 0,
      "outputs": []
    },
    {
      "cell_type": "markdown",
      "metadata": {
        "id": "pMqPP8KxX_Zc",
        "colab_type": "text"
      },
      "source": [
        "## Download Datasets"
      ]
    },
    {
      "cell_type": "markdown",
      "metadata": {
        "id": "eAhBTN6qyBBo",
        "colab_type": "text"
      },
      "source": [
        "Downloading the dataset images from the URL mentioned in the inria site using curl cmd. This command downloads the dataset as 7z parts and then unzips it under the folder AerialImageDataset."
      ]
    },
    {
      "cell_type": "code",
      "metadata": {
        "id": "t3GI6p0MXqV4",
        "colab_type": "code",
        "outputId": "d5509a35-b01f-4a71-8838-5be3a8756e20",
        "colab": {
          "base_uri": "https://localhost:8080/",
          "height": 10849
        }
      },
      "source": [
        "# Do not execute !! Already downloaded datasets !\n",
        "!curl -k https://files.inria.fr/aerialimagelabeling/getAerial.sh | bash"
      ],
      "execution_count": 4,
      "outputs": [
        {
          "output_type": "stream",
          "text": [
            "  % Total    % Received % Xferd  Average Speed   Time    Time     Time  Current\n",
            "                                 Dload  Upload   Total   Spent    Left  Speed\n",
            "\r  0     0    0     0    0     0      0      0 --:--:-- --:--:-- --:--:--     0\r100   979  100   979    0     0   2887      0 --:--:-- --:--:-- --:--:--  2896\n",
            "--2019-05-30 04:09:21--  https://files.inria.fr/aerialimagelabeling/aerialimagelabeling.7z.001\n",
            "Resolving files.inria.fr (files.inria.fr)... 128.93.162.51\n",
            "Connecting to files.inria.fr (files.inria.fr)|128.93.162.51|:443... connected.\n",
            "HTTP request sent, awaiting response... 200 OK\n",
            "Length: 4294967296 (4.0G)\n",
            "Saving to: ‘aerialimagelabeling.7z.001’\n",
            "\n",
            "aerialimagelabeling 100%[===================>]   4.00G   160MB/s    in 30s     \n",
            "\n",
            "2019-05-30 04:09:50 (137 MB/s) - ‘aerialimagelabeling.7z.001’ saved [4294967296/4294967296]\n",
            "\n",
            "--2019-05-30 04:09:50--  https://files.inria.fr/aerialimagelabeling/aerialimagelabeling.7z.002\n",
            "Resolving files.inria.fr (files.inria.fr)... 128.93.162.51\n",
            "Connecting to files.inria.fr (files.inria.fr)|128.93.162.51|:443... connected.\n",
            "HTTP request sent, awaiting response... 200 OK\n",
            "Length: 4294967296 (4.0G)\n",
            "Saving to: ‘aerialimagelabeling.7z.002’\n",
            "\n",
            "aerialimagelabeling 100%[===================>]   4.00G   146MB/s    in 31s     \n",
            "\n",
            "2019-05-30 04:10:21 (134 MB/s) - ‘aerialimagelabeling.7z.002’ saved [4294967296/4294967296]\n",
            "\n",
            "--2019-05-30 04:10:22--  https://files.inria.fr/aerialimagelabeling/aerialimagelabeling.7z.003\n",
            "Resolving files.inria.fr (files.inria.fr)... 128.93.162.51\n",
            "Connecting to files.inria.fr (files.inria.fr)|128.93.162.51|:443... connected.\n",
            "HTTP request sent, awaiting response... 200 OK\n",
            "Length: 4294967296 (4.0G)\n",
            "Saving to: ‘aerialimagelabeling.7z.003’\n",
            "\n",
            "aerialimagelabeling 100%[===================>]   4.00G   139MB/s    in 30s     \n",
            "\n",
            "2019-05-30 04:10:52 (138 MB/s) - ‘aerialimagelabeling.7z.003’ saved [4294967296/4294967296]\n",
            "\n",
            "--2019-05-30 04:10:53--  https://files.inria.fr/aerialimagelabeling/aerialimagelabeling.7z.004\n",
            "Resolving files.inria.fr (files.inria.fr)... 128.93.162.51\n",
            "Connecting to files.inria.fr (files.inria.fr)|128.93.162.51|:443... connected.\n",
            "HTTP request sent, awaiting response... 200 OK\n",
            "Length: 4294967296 (4.0G)\n",
            "Saving to: ‘aerialimagelabeling.7z.004’\n",
            "\n",
            "aerialimagelabeling 100%[===================>]   4.00G   145MB/s    in 30s     \n",
            "\n",
            "2019-05-30 04:11:23 (136 MB/s) - ‘aerialimagelabeling.7z.004’ saved [4294967296/4294967296]\n",
            "\n",
            "--2019-05-30 04:11:24--  https://files.inria.fr/aerialimagelabeling/aerialimagelabeling.7z.005\n",
            "Resolving files.inria.fr (files.inria.fr)... 128.93.162.51\n",
            "Connecting to files.inria.fr (files.inria.fr)|128.93.162.51|:443... connected.\n",
            "HTTP request sent, awaiting response... 200 OK\n",
            "Length: 3777396691 (3.5G)\n",
            "Saving to: ‘aerialimagelabeling.7z.005’\n",
            "\n",
            "aerialimagelabeling 100%[===================>]   3.52G   145MB/s    in 26s     \n",
            "\n",
            "2019-05-30 04:11:49 (140 MB/s) - ‘aerialimagelabeling.7z.005’ saved [3777396691/3777396691]\n",
            "\n",
            "\n",
            "7-Zip [64] 16.02 : Copyright (c) 1999-2016 Igor Pavlov : 2016-05-21\n",
            "p7zip Version 16.02 (locale=en_US.UTF-8,Utf16=on,HugeFiles=on,64 bits,2 CPUs Intel(R) Xeon(R) CPU @ 2.30GHz (306F0),ASM,AES-NI)\n",
            "\n",
            "Scanning the drive for archives:\n",
            "  0M Scan\b\b\b\b\b\b\b\b\b         \b\b\b\b\b\b\b\b\b1 file, 4294967296 bytes (4096 MiB)\n",
            "\n",
            "Extracting archive: aerialimagelabeling.7z.001\n",
            "  0% 1 Open\b\b\b\b\b\b\b\b\b\b\b           \b\b\b\b\b\b\b\b\b\b\b--\n",
            "Path = aerialimagelabeling.7z.001\n",
            "Type = Split\n",
            "Physical Size = 4294967296\n",
            "Volumes = 5\n",
            "Total Physical Size = 20957265875\n",
            "----\n",
            "Path = aerialimagelabeling.7z\n",
            "Size = 20957265875\n",
            "--\n",
            "Path = aerialimagelabeling.7z\n",
            "Type = 7z\n",
            "Physical Size = 20957265875\n",
            "Headers Size = 150\n",
            "Method = Copy\n",
            "Solid = -\n",
            "Blocks = 1\n",
            "\n",
            "  0%\b\b\b\b    \b\b\b\b  0% - NEW2-AerialImageDataset.zip\b\b\b\b\b\b\b\b\b\b\b\b\b\b\b\b\b\b\b\b\b\b\b\b\b\b\b\b\b\b\b\b\b\b                                  \b\b\b\b\b\b\b\b\b\b\b\b\b\b\b\b\b\b\b\b\b\b\b\b\b\b\b\b\b\b\b\b\b\b  1% - NEW2-AerialImageDataset.zip\b\b\b\b\b\b\b\b\b\b\b\b\b\b\b\b\b\b\b\b\b\b\b\b\b\b\b\b\b\b\b\b\b\b                                  \b\b\b\b\b\b\b\b\b\b\b\b\b\b\b\b\b\b\b\b\b\b\b\b\b\b\b\b\b\b\b\b\b\b  2% - NEW2-AerialImageDataset.zip\b\b\b\b\b\b\b\b\b\b\b\b\b\b\b\b\b\b\b\b\b\b\b\b\b\b\b\b\b\b\b\b\b\b                                  \b\b\b\b\b\b\b\b\b\b\b\b\b\b\b\b\b\b\b\b\b\b\b\b\b\b\b\b\b\b\b\b\b\b  3% - NEW2-AerialImageDataset.zip\b\b\b\b\b\b\b\b\b\b\b\b\b\b\b\b\b\b\b\b\b\b\b\b\b\b\b\b\b\b\b\b\b\b                                  \b\b\b\b\b\b\b\b\b\b\b\b\b\b\b\b\b\b\b\b\b\b\b\b\b\b\b\b\b\b\b\b\b\b  4% - NEW2-AerialImageDataset.zip\b\b\b\b\b\b\b\b\b\b\b\b\b\b\b\b\b\b\b\b\b\b\b\b\b\b\b\b\b\b\b\b\b\b                                  \b\b\b\b\b\b\b\b\b\b\b\b\b\b\b\b\b\b\b\b\b\b\b\b\b\b\b\b\b\b\b\b\b\b  5% - NEW2-AerialImageDataset.zip\b\b\b\b\b\b\b\b\b\b\b\b\b\b\b\b\b\b\b\b\b\b\b\b\b\b\b\b\b\b\b\b\b\b                                  \b\b\b\b\b\b\b\b\b\b\b\b\b\b\b\b\b\b\b\b\b\b\b\b\b\b\b\b\b\b\b\b\b\b  6% - NEW2-AerialImageDataset.zip\b\b\b\b\b\b\b\b\b\b\b\b\b\b\b\b\b\b\b\b\b\b\b\b\b\b\b\b\b\b\b\b\b\b                                  \b\b\b\b\b\b\b\b\b\b\b\b\b\b\b\b\b\b\b\b\b\b\b\b\b\b\b\b\b\b\b\b\b\b  7% - NEW2-AerialImageDataset.zip\b\b\b\b\b\b\b\b\b\b\b\b\b\b\b\b\b\b\b\b\b\b\b\b\b\b\b\b\b\b\b\b\b\b                                  \b\b\b\b\b\b\b\b\b\b\b\b\b\b\b\b\b\b\b\b\b\b\b\b\b\b\b\b\b\b\b\b\b\b  8% - NEW2-AerialImageDataset.zip\b\b\b\b\b\b\b\b\b\b\b\b\b\b\b\b\b\b\b\b\b\b\b\b\b\b\b\b\b\b\b\b\b\b                                  \b\b\b\b\b\b\b\b\b\b\b\b\b\b\b\b\b\b\b\b\b\b\b\b\b\b\b\b\b\b\b\b\b\b  9% - NEW2-AerialImageDataset.zip\b\b\b\b\b\b\b\b\b\b\b\b\b\b\b\b\b\b\b\b\b\b\b\b\b\b\b\b\b\b\b\b\b\b                                  \b\b\b\b\b\b\b\b\b\b\b\b\b\b\b\b\b\b\b\b\b\b\b\b\b\b\b\b\b\b\b\b\b\b 10% - NEW2-AerialImageDataset.zip\b\b\b\b\b\b\b\b\b\b\b\b\b\b\b\b\b\b\b\b\b\b\b\b\b\b\b\b\b\b\b\b\b\b                                  \b\b\b\b\b\b\b\b\b\b\b\b\b\b\b\b\b\b\b\b\b\b\b\b\b\b\b\b\b\b\b\b\b\b 11% - NEW2-AerialImageDataset.zip\b\b\b\b\b\b\b\b\b\b\b\b\b\b\b\b\b\b\b\b\b\b\b\b\b\b\b\b\b\b\b\b\b\b                                  \b\b\b\b\b\b\b\b\b\b\b\b\b\b\b\b\b\b\b\b\b\b\b\b\b\b\b\b\b\b\b\b\b\b 12% - NEW2-AerialImageDataset.zip\b\b\b\b\b\b\b\b\b\b\b\b\b\b\b\b\b\b\b\b\b\b\b\b\b\b\b\b\b\b\b\b\b\b                                  \b\b\b\b\b\b\b\b\b\b\b\b\b\b\b\b\b\b\b\b\b\b\b\b\b\b\b\b\b\b\b\b\b\b 13% - NEW2-AerialImageDataset.zip\b\b\b\b\b\b\b\b\b\b\b\b\b\b\b\b\b\b\b\b\b\b\b\b\b\b\b\b\b\b\b\b\b\b                                  \b\b\b\b\b\b\b\b\b\b\b\b\b\b\b\b\b\b\b\b\b\b\b\b\b\b\b\b\b\b\b\b\b\b 14% - NEW2-AerialImageDataset.zip\b\b\b\b\b\b\b\b\b\b\b\b\b\b\b\b\b\b\b\b\b\b\b\b\b\b\b\b\b\b\b\b\b\b                                  \b\b\b\b\b\b\b\b\b\b\b\b\b\b\b\b\b\b\b\b\b\b\b\b\b\b\b\b\b\b\b\b\b\b 15% - NEW2-AerialImageDataset.zip\b\b\b\b\b\b\b\b\b\b\b\b\b\b\b\b\b\b\b\b\b\b\b\b\b\b\b\b\b\b\b\b\b\b                                  \b\b\b\b\b\b\b\b\b\b\b\b\b\b\b\b\b\b\b\b\b\b\b\b\b\b\b\b\b\b\b\b\b\b 16% - NEW2-AerialImageDataset.zip\b\b\b\b\b\b\b\b\b\b\b\b\b\b\b\b\b\b\b\b\b\b\b\b\b\b\b\b\b\b\b\b\b\b                                  \b\b\b\b\b\b\b\b\b\b\b\b\b\b\b\b\b\b\b\b\b\b\b\b\b\b\b\b\b\b\b\b\b\b 17% - NEW2-AerialImageDataset.zip\b\b\b\b\b\b\b\b\b\b\b\b\b\b\b\b\b\b\b\b\b\b\b\b\b\b\b\b\b\b\b\b\b\b                                  \b\b\b\b\b\b\b\b\b\b\b\b\b\b\b\b\b\b\b\b\b\b\b\b\b\b\b\b\b\b\b\b\b\b 18% - NEW2-AerialImageDataset.zip\b\b\b\b\b\b\b\b\b\b\b\b\b\b\b\b\b\b\b\b\b\b\b\b\b\b\b\b\b\b\b\b\b\b                                  \b\b\b\b\b\b\b\b\b\b\b\b\b\b\b\b\b\b\b\b\b\b\b\b\b\b\b\b\b\b\b\b\b\b 19% - NEW2-AerialImageDataset.zip\b\b\b\b\b\b\b\b\b\b\b\b\b\b\b\b\b\b\b\b\b\b\b\b\b\b\b\b\b\b\b\b\b\b                                  \b\b\b\b\b\b\b\b\b\b\b\b\b\b\b\b\b\b\b\b\b\b\b\b\b\b\b\b\b\b\b\b\b\b 20% - NEW2-AerialImageDataset.zip\b\b\b\b\b\b\b\b\b\b\b\b\b\b\b\b\b\b\b\b\b\b\b\b\b\b\b\b\b\b\b\b\b\b                                  \b\b\b\b\b\b\b\b\b\b\b\b\b\b\b\b\b\b\b\b\b\b\b\b\b\b\b\b\b\b\b\b\b\b 21% - NEW2-AerialImageDataset.zip\b\b\b\b\b\b\b\b\b\b\b\b\b\b\b\b\b\b\b\b\b\b\b\b\b\b\b\b\b\b\b\b\b\b                                  \b\b\b\b\b\b\b\b\b\b\b\b\b\b\b\b\b\b\b\b\b\b\b\b\b\b\b\b\b\b\b\b\b\b 22% - NEW2-AerialImageDataset.zip\b\b\b\b\b\b\b\b\b\b\b\b\b\b\b\b\b\b\b\b\b\b\b\b\b\b\b\b\b\b\b\b\b\b                                  \b\b\b\b\b\b\b\b\b\b\b\b\b\b\b\b\b\b\b\b\b\b\b\b\b\b\b\b\b\b\b\b\b\b 23% - NEW2-AerialImageDataset.zip\b\b\b\b\b\b\b\b\b\b\b\b\b\b\b\b\b\b\b\b\b\b\b\b\b\b\b\b\b\b\b\b\b\b                                  \b\b\b\b\b\b\b\b\b\b\b\b\b\b\b\b\b\b\b\b\b\b\b\b\b\b\b\b\b\b\b\b\b\b 24% - NEW2-AerialImageDataset.zip\b\b\b\b\b\b\b\b\b\b\b\b\b\b\b\b\b\b\b\b\b\b\b\b\b\b\b\b\b\b\b\b\b\b                                  \b\b\b\b\b\b\b\b\b\b\b\b\b\b\b\b\b\b\b\b\b\b\b\b\b\b\b\b\b\b\b\b\b\b 25% - NEW2-AerialImageDataset.zip\b\b\b\b\b\b\b\b\b\b\b\b\b\b\b\b\b\b\b\b\b\b\b\b\b\b\b\b\b\b\b\b\b\b                                  \b\b\b\b\b\b\b\b\b\b\b\b\b\b\b\b\b\b\b\b\b\b\b\b\b\b\b\b\b\b\b\b\b\b 26% - NEW2-AerialImageDataset.zip\b\b\b\b\b\b\b\b\b\b\b\b\b\b\b\b\b\b\b\b\b\b\b\b\b\b\b\b\b\b\b\b\b\b                                  \b\b\b\b\b\b\b\b\b\b\b\b\b\b\b\b\b\b\b\b\b\b\b\b\b\b\b\b\b\b\b\b\b\b 27% - NEW2-AerialImageDataset.zip\b\b\b\b\b\b\b\b\b\b\b\b\b\b\b\b\b\b\b\b\b\b\b\b\b\b\b\b\b\b\b\b\b\b                                  \b\b\b\b\b\b\b\b\b\b\b\b\b\b\b\b\b\b\b\b\b\b\b\b\b\b\b\b\b\b\b\b\b\b 28% - NEW2-AerialImageDataset.zip\b\b\b\b\b\b\b\b\b\b\b\b\b\b\b\b\b\b\b\b\b\b\b\b\b\b\b\b\b\b\b\b\b\b                                  \b\b\b\b\b\b\b\b\b\b\b\b\b\b\b\b\b\b\b\b\b\b\b\b\b\b\b\b\b\b\b\b\b\b 29% - NEW2-AerialImageDataset.zip\b\b\b\b\b\b\b\b\b\b\b\b\b\b\b\b\b\b\b\b\b\b\b\b\b\b\b\b\b\b\b\b\b\b                                  \b\b\b\b\b\b\b\b\b\b\b\b\b\b\b\b\b\b\b\b\b\b\b\b\b\b\b\b\b\b\b\b\b\b 30% - NEW2-AerialImageDataset.zip\b\b\b\b\b\b\b\b\b\b\b\b\b\b\b\b\b\b\b\b\b\b\b\b\b\b\b\b\b\b\b\b\b\b                                  \b\b\b\b\b\b\b\b\b\b\b\b\b\b\b\b\b\b\b\b\b\b\b\b\b\b\b\b\b\b\b\b\b\b 31% - NEW2-AerialImageDataset.zip\b\b\b\b\b\b\b\b\b\b\b\b\b\b\b\b\b\b\b\b\b\b\b\b\b\b\b\b\b\b\b\b\b\b                                  \b\b\b\b\b\b\b\b\b\b\b\b\b\b\b\b\b\b\b\b\b\b\b\b\b\b\b\b\b\b\b\b\b\b 32% - NEW2-AerialImageDataset.zip\b\b\b\b\b\b\b\b\b\b\b\b\b\b\b\b\b\b\b\b\b\b\b\b\b\b\b\b\b\b\b\b\b\b                                  \b\b\b\b\b\b\b\b\b\b\b\b\b\b\b\b\b\b\b\b\b\b\b\b\b\b\b\b\b\b\b\b\b\b 33% - NEW2-AerialImageDataset.zip\b\b\b\b\b\b\b\b\b\b\b\b\b\b\b\b\b\b\b\b\b\b\b\b\b\b\b\b\b\b\b\b\b\b                                  \b\b\b\b\b\b\b\b\b\b\b\b\b\b\b\b\b\b\b\b\b\b\b\b\b\b\b\b\b\b\b\b\b\b 34% - NEW2-AerialImageDataset.zip\b\b\b\b\b\b\b\b\b\b\b\b\b\b\b\b\b\b\b\b\b\b\b\b\b\b\b\b\b\b\b\b\b\b                                  \b\b\b\b\b\b\b\b\b\b\b\b\b\b\b\b\b\b\b\b\b\b\b\b\b\b\b\b\b\b\b\b\b\b 35% - NEW2-AerialImageDataset.zip\b\b\b\b\b\b\b\b\b\b\b\b\b\b\b\b\b\b\b\b\b\b\b\b\b\b\b\b\b\b\b\b\b\b                                  \b\b\b\b\b\b\b\b\b\b\b\b\b\b\b\b\b\b\b\b\b\b\b\b\b\b\b\b\b\b\b\b\b\b 36% - NEW2-AerialImageDataset.zip\b\b\b\b\b\b\b\b\b\b\b\b\b\b\b\b\b\b\b\b\b\b\b\b\b\b\b\b\b\b\b\b\b\b                                  \b\b\b\b\b\b\b\b\b\b\b\b\b\b\b\b\b\b\b\b\b\b\b\b\b\b\b\b\b\b\b\b\b\b 37% - NEW2-AerialImageDataset.zip\b\b\b\b\b\b\b\b\b\b\b\b\b\b\b\b\b\b\b\b\b\b\b\b\b\b\b\b\b\b\b\b\b\b                                  \b\b\b\b\b\b\b\b\b\b\b\b\b\b\b\b\b\b\b\b\b\b\b\b\b\b\b\b\b\b\b\b\b\b 38% - NEW2-AerialImageDataset.zip\b\b\b\b\b\b\b\b\b\b\b\b\b\b\b\b\b\b\b\b\b\b\b\b\b\b\b\b\b\b\b\b\b\b                                  \b\b\b\b\b\b\b\b\b\b\b\b\b\b\b\b\b\b\b\b\b\b\b\b\b\b\b\b\b\b\b\b\b\b 39% - NEW2-AerialImageDataset.zip\b\b\b\b\b\b\b\b\b\b\b\b\b\b\b\b\b\b\b\b\b\b\b\b\b\b\b\b\b\b\b\b\b\b                                  \b\b\b\b\b\b\b\b\b\b\b\b\b\b\b\b\b\b\b\b\b\b\b\b\b\b\b\b\b\b\b\b\b\b 40% - NEW2-AerialImageDataset.zip\b\b\b\b\b\b\b\b\b\b\b\b\b\b\b\b\b\b\b\b\b\b\b\b\b\b\b\b\b\b\b\b\b\b                                  \b\b\b\b\b\b\b\b\b\b\b\b\b\b\b\b\b\b\b\b\b\b\b\b\b\b\b\b\b\b\b\b\b\b 41% - NEW2-AerialImageDataset.zip\b\b\b\b\b\b\b\b\b\b\b\b\b\b\b\b\b\b\b\b\b\b\b\b\b\b\b\b\b\b\b\b\b\b                                  \b\b\b\b\b\b\b\b\b\b\b\b\b\b\b\b\b\b\b\b\b\b\b\b\b\b\b\b\b\b\b\b\b\b 42% - NEW2-AerialImageDataset.zip\b\b\b\b\b\b\b\b\b\b\b\b\b\b\b\b\b\b\b\b\b\b\b\b\b\b\b\b\b\b\b\b\b\b                                  \b\b\b\b\b\b\b\b\b\b\b\b\b\b\b\b\b\b\b\b\b\b\b\b\b\b\b\b\b\b\b\b\b\b 43% - NEW2-AerialImageDataset.zip\b\b\b\b\b\b\b\b\b\b\b\b\b\b\b\b\b\b\b\b\b\b\b\b\b\b\b\b\b\b\b\b\b\b                                  \b\b\b\b\b\b\b\b\b\b\b\b\b\b\b\b\b\b\b\b\b\b\b\b\b\b\b\b\b\b\b\b\b\b 44% - NEW2-AerialImageDataset.zip\b\b\b\b\b\b\b\b\b\b\b\b\b\b\b\b\b\b\b\b\b\b\b\b\b\b\b\b\b\b\b\b\b\b                                  \b\b\b\b\b\b\b\b\b\b\b\b\b\b\b\b\b\b\b\b\b\b\b\b\b\b\b\b\b\b\b\b\b\b 45% - NEW2-AerialImageDataset.zip\b\b\b\b\b\b\b\b\b\b\b\b\b\b\b\b\b\b\b\b\b\b\b\b\b\b\b\b\b\b\b\b\b\b                                  \b\b\b\b\b\b\b\b\b\b\b\b\b\b\b\b\b\b\b\b\b\b\b\b\b\b\b\b\b\b\b\b\b\b 46% - NEW2-AerialImageDataset.zip\b\b\b\b\b\b\b\b\b\b\b\b\b\b\b\b\b\b\b\b\b\b\b\b\b\b\b\b\b\b\b\b\b\b                                  \b\b\b\b\b\b\b\b\b\b\b\b\b\b\b\b\b\b\b\b\b\b\b\b\b\b\b\b\b\b\b\b\b\b 47% - NEW2-AerialImageDataset.zip\b\b\b\b\b\b\b\b\b\b\b\b\b\b\b\b\b\b\b\b\b\b\b\b\b\b\b\b\b\b\b\b\b\b                                  \b\b\b\b\b\b\b\b\b\b\b\b\b\b\b\b\b\b\b\b\b\b\b\b\b\b\b\b\b\b\b\b\b\b 48% - NEW2-AerialImageDataset.zip\b\b\b\b\b\b\b\b\b\b\b\b\b\b\b\b\b\b\b\b\b\b\b\b\b\b\b\b\b\b\b\b\b\b                                  \b\b\b\b\b\b\b\b\b\b\b\b\b\b\b\b\b\b\b\b\b\b\b\b\b\b\b\b\b\b\b\b\b\b 49% - NEW2-AerialImageDataset.zip\b\b\b\b\b\b\b\b\b\b\b\b\b\b\b\b\b\b\b\b\b\b\b\b\b\b\b\b\b\b\b\b\b\b                                  \b\b\b\b\b\b\b\b\b\b\b\b\b\b\b\b\b\b\b\b\b\b\b\b\b\b\b\b\b\b\b\b\b\b 50% - NEW2-AerialImageDataset.zip\b\b\b\b\b\b\b\b\b\b\b\b\b\b\b\b\b\b\b\b\b\b\b\b\b\b\b\b\b\b\b\b\b\b                                  \b\b\b\b\b\b\b\b\b\b\b\b\b\b\b\b\b\b\b\b\b\b\b\b\b\b\b\b\b\b\b\b\b\b 51% - NEW2-AerialImageDataset.zip\b\b\b\b\b\b\b\b\b\b\b\b\b\b\b\b\b\b\b\b\b\b\b\b\b\b\b\b\b\b\b\b\b\b                                  \b\b\b\b\b\b\b\b\b\b\b\b\b\b\b\b\b\b\b\b\b\b\b\b\b\b\b\b\b\b\b\b\b\b 52% - NEW2-AerialImageDataset.zip\b\b\b\b\b\b\b\b\b\b\b\b\b\b\b\b\b\b\b\b\b\b\b\b\b\b\b\b\b\b\b\b\b\b                                  \b\b\b\b\b\b\b\b\b\b\b\b\b\b\b\b\b\b\b\b\b\b\b\b\b\b\b\b\b\b\b\b\b\b 53% - NEW2-AerialImageDataset.zip\b\b\b\b\b\b\b\b\b\b\b\b\b\b\b\b\b\b\b\b\b\b\b\b\b\b\b\b\b\b\b\b\b\b                                  \b\b\b\b\b\b\b\b\b\b\b\b\b\b\b\b\b\b\b\b\b\b\b\b\b\b\b\b\b\b\b\b\b\b 54% - NEW2-AerialImageDataset.zip\b\b\b\b\b\b\b\b\b\b\b\b\b\b\b\b\b\b\b\b\b\b\b\b\b\b\b\b\b\b\b\b\b\b                                  \b\b\b\b\b\b\b\b\b\b\b\b\b\b\b\b\b\b\b\b\b\b\b\b\b\b\b\b\b\b\b\b\b\b 55% - NEW2-AerialImageDataset.zip\b\b\b\b\b\b\b\b\b\b\b\b\b\b\b\b\b\b\b\b\b\b\b\b\b\b\b\b\b\b\b\b\b\b                                  \b\b\b\b\b\b\b\b\b\b\b\b\b\b\b\b\b\b\b\b\b\b\b\b\b\b\b\b\b\b\b\b\b\b 56% - NEW2-AerialImageDataset.zip\b\b\b\b\b\b\b\b\b\b\b\b\b\b\b\b\b\b\b\b\b\b\b\b\b\b\b\b\b\b\b\b\b\b                                  \b\b\b\b\b\b\b\b\b\b\b\b\b\b\b\b\b\b\b\b\b\b\b\b\b\b\b\b\b\b\b\b\b\b 57% - NEW2-AerialImageDataset.zip\b\b\b\b\b\b\b\b\b\b\b\b\b\b\b\b\b\b\b\b\b\b\b\b\b\b\b\b\b\b\b\b\b\b                                  \b\b\b\b\b\b\b\b\b\b\b\b\b\b\b\b\b\b\b\b\b\b\b\b\b\b\b\b\b\b\b\b\b\b 58% - NEW2-AerialImageDataset.zip\b\b\b\b\b\b\b\b\b\b\b\b\b\b\b\b\b\b\b\b\b\b\b\b\b\b\b\b\b\b\b\b\b\b                                  \b\b\b\b\b\b\b\b\b\b\b\b\b\b\b\b\b\b\b\b\b\b\b\b\b\b\b\b\b\b\b\b\b\b 59% - NEW2-AerialImageDataset.zip\b\b\b\b\b\b\b\b\b\b\b\b\b\b\b\b\b\b\b\b\b\b\b\b\b\b\b\b\b\b\b\b\b\b                                  \b\b\b\b\b\b\b\b\b\b\b\b\b\b\b\b\b\b\b\b\b\b\b\b\b\b\b\b\b\b\b\b\b\b 60% - NEW2-AerialImageDataset.zip\b\b\b\b\b\b\b\b\b\b\b\b\b\b\b\b\b\b\b\b\b\b\b\b\b\b\b\b\b\b\b\b\b\b                                  \b\b\b\b\b\b\b\b\b\b\b\b\b\b\b\b\b\b\b\b\b\b\b\b\b\b\b\b\b\b\b\b\b\b 61% - NEW2-AerialImageDataset.zip\b\b\b\b\b\b\b\b\b\b\b\b\b\b\b\b\b\b\b\b\b\b\b\b\b\b\b\b\b\b\b\b\b\b                                  \b\b\b\b\b\b\b\b\b\b\b\b\b\b\b\b\b\b\b\b\b\b\b\b\b\b\b\b\b\b\b\b\b\b 62% - NEW2-AerialImageDataset.zip\b\b\b\b\b\b\b\b\b\b\b\b\b\b\b\b\b\b\b\b\b\b\b\b\b\b\b\b\b\b\b\b\b\b                                  \b\b\b\b\b\b\b\b\b\b\b\b\b\b\b\b\b\b\b\b\b\b\b\b\b\b\b\b\b\b\b\b\b\b 63% - NEW2-AerialImageDataset.zip\b\b\b\b\b\b\b\b\b\b\b\b\b\b\b\b\b\b\b\b\b\b\b\b\b\b\b\b\b\b\b\b\b\b                                  \b\b\b\b\b\b\b\b\b\b\b\b\b\b\b\b\b\b\b\b\b\b\b\b\b\b\b\b\b\b\b\b\b\b 64% - NEW2-AerialImageDataset.zip\b\b\b\b\b\b\b\b\b\b\b\b\b\b\b\b\b\b\b\b\b\b\b\b\b\b\b\b\b\b\b\b\b\b                                  \b\b\b\b\b\b\b\b\b\b\b\b\b\b\b\b\b\b\b\b\b\b\b\b\b\b\b\b\b\b\b\b\b\b 65% - NEW2-AerialImageDataset.zip\b\b\b\b\b\b\b\b\b\b\b\b\b\b\b\b\b\b\b\b\b\b\b\b\b\b\b\b\b\b\b\b\b\b                                  \b\b\b\b\b\b\b\b\b\b\b\b\b\b\b\b\b\b\b\b\b\b\b\b\b\b\b\b\b\b\b\b\b\b 66% - NEW2-AerialImageDataset.zip\b\b\b\b\b\b\b\b\b\b\b\b\b\b\b\b\b\b\b\b\b\b\b\b\b\b\b\b\b\b\b\b\b\b                                  \b\b\b\b\b\b\b\b\b\b\b\b\b\b\b\b\b\b\b\b\b\b\b\b\b\b\b\b\b\b\b\b\b\b 67% - NEW2-AerialImageDataset.zip\b\b\b\b\b\b\b\b\b\b\b\b\b\b\b\b\b\b\b\b\b\b\b\b\b\b\b\b\b\b\b\b\b\b                                  \b\b\b\b\b\b\b\b\b\b\b\b\b\b\b\b\b\b\b\b\b\b\b\b\b\b\b\b\b\b\b\b\b\b 68% - NEW2-AerialImageDataset.zip\b\b\b\b\b\b\b\b\b\b\b\b\b\b\b\b\b\b\b\b\b\b\b\b\b\b\b\b\b\b\b\b\b\b                                  \b\b\b\b\b\b\b\b\b\b\b\b\b\b\b\b\b\b\b\b\b\b\b\b\b\b\b\b\b\b\b\b\b\b 69% - NEW2-AerialImageDataset.zip\b\b\b\b\b\b\b\b\b\b\b\b\b\b\b\b\b\b\b\b\b\b\b\b\b\b\b\b\b\b\b\b\b\b                                  \b\b\b\b\b\b\b\b\b\b\b\b\b\b\b\b\b\b\b\b\b\b\b\b\b\b\b\b\b\b\b\b\b\b 70% - NEW2-AerialImageDataset.zip\b\b\b\b\b\b\b\b\b\b\b\b\b\b\b\b\b\b\b\b\b\b\b\b\b\b\b\b\b\b\b\b\b\b                                  \b\b\b\b\b\b\b\b\b\b\b\b\b\b\b\b\b\b\b\b\b\b\b\b\b\b\b\b\b\b\b\b\b\b 71% - NEW2-AerialImageDataset.zip\b\b\b\b\b\b\b\b\b\b\b\b\b\b\b\b\b\b\b\b\b\b\b\b\b\b\b\b\b\b\b\b\b\b                                  \b\b\b\b\b\b\b\b\b\b\b\b\b\b\b\b\b\b\b\b\b\b\b\b\b\b\b\b\b\b\b\b\b\b 72% - NEW2-AerialImageDataset.zip\b\b\b\b\b\b\b\b\b\b\b\b\b\b\b\b\b\b\b\b\b\b\b\b\b\b\b\b\b\b\b\b\b\b                                  \b\b\b\b\b\b\b\b\b\b\b\b\b\b\b\b\b\b\b\b\b\b\b\b\b\b\b\b\b\b\b\b\b\b 73% - NEW2-AerialImageDataset.zip\b\b\b\b\b\b\b\b\b\b\b\b\b\b\b\b\b\b\b\b\b\b\b\b\b\b\b\b\b\b\b\b\b\b                                  \b\b\b\b\b\b\b\b\b\b\b\b\b\b\b\b\b\b\b\b\b\b\b\b\b\b\b\b\b\b\b\b\b\b 74% - NEW2-AerialImageDataset.zip\b\b\b\b\b\b\b\b\b\b\b\b\b\b\b\b\b\b\b\b\b\b\b\b\b\b\b\b\b\b\b\b\b\b                                  \b\b\b\b\b\b\b\b\b\b\b\b\b\b\b\b\b\b\b\b\b\b\b\b\b\b\b\b\b\b\b\b\b\b 75% - NEW2-AerialImageDataset.zip\b\b\b\b\b\b\b\b\b\b\b\b\b\b\b\b\b\b\b\b\b\b\b\b\b\b\b\b\b\b\b\b\b\b                                  \b\b\b\b\b\b\b\b\b\b\b\b\b\b\b\b\b\b\b\b\b\b\b\b\b\b\b\b\b\b\b\b\b\b 76% - NEW2-AerialImageDataset.zip\b\b\b\b\b\b\b\b\b\b\b\b\b\b\b\b\b\b\b\b\b\b\b\b\b\b\b\b\b\b\b\b\b\b                                  \b\b\b\b\b\b\b\b\b\b\b\b\b\b\b\b\b\b\b\b\b\b\b\b\b\b\b\b\b\b\b\b\b\b 77% - NEW2-AerialImageDataset.zip\b\b\b\b\b\b\b\b\b\b\b\b\b\b\b\b\b\b\b\b\b\b\b\b\b\b\b\b\b\b\b\b\b\b                                  \b\b\b\b\b\b\b\b\b\b\b\b\b\b\b\b\b\b\b\b\b\b\b\b\b\b\b\b\b\b\b\b\b\b 78% - NEW2-AerialImageDataset.zip\b\b\b\b\b\b\b\b\b\b\b\b\b\b\b\b\b\b\b\b\b\b\b\b\b\b\b\b\b\b\b\b\b\b                                  \b\b\b\b\b\b\b\b\b\b\b\b\b\b\b\b\b\b\b\b\b\b\b\b\b\b\b\b\b\b\b\b\b\b 79% - NEW2-AerialImageDataset.zip\b\b\b\b\b\b\b\b\b\b\b\b\b\b\b\b\b\b\b\b\b\b\b\b\b\b\b\b\b\b\b\b\b\b                                  \b\b\b\b\b\b\b\b\b\b\b\b\b\b\b\b\b\b\b\b\b\b\b\b\b\b\b\b\b\b\b\b\b\b 80% - NEW2-AerialImageDataset.zip\b\b\b\b\b\b\b\b\b\b\b\b\b\b\b\b\b\b\b\b\b\b\b\b\b\b\b\b\b\b\b\b\b\b                                  \b\b\b\b\b\b\b\b\b\b\b\b\b\b\b\b\b\b\b\b\b\b\b\b\b\b\b\b\b\b\b\b\b\b 81% - NEW2-AerialImageDataset.zip\b\b\b\b\b\b\b\b\b\b\b\b\b\b\b\b\b\b\b\b\b\b\b\b\b\b\b\b\b\b\b\b\b\b                                  \b\b\b\b\b\b\b\b\b\b\b\b\b\b\b\b\b\b\b\b\b\b\b\b\b\b\b\b\b\b\b\b\b\b 82% - NEW2-AerialImageDataset.zip\b\b\b\b\b\b\b\b\b\b\b\b\b\b\b\b\b\b\b\b\b\b\b\b\b\b\b\b\b\b\b\b\b\b                                  \b\b\b\b\b\b\b\b\b\b\b\b\b\b\b\b\b\b\b\b\b\b\b\b\b\b\b\b\b\b\b\b\b\b 83% - NEW2-AerialImageDataset.zip\b\b\b\b\b\b\b\b\b\b\b\b\b\b\b\b\b\b\b\b\b\b\b\b\b\b\b\b\b\b\b\b\b\b                                  \b\b\b\b\b\b\b\b\b\b\b\b\b\b\b\b\b\b\b\b\b\b\b\b\b\b\b\b\b\b\b\b\b\b 84% - NEW2-AerialImageDataset.zip\b\b\b\b\b\b\b\b\b\b\b\b\b\b\b\b\b\b\b\b\b\b\b\b\b\b\b\b\b\b\b\b\b\b                                  \b\b\b\b\b\b\b\b\b\b\b\b\b\b\b\b\b\b\b\b\b\b\b\b\b\b\b\b\b\b\b\b\b\b 85% - NEW2-AerialImageDataset.zip\b\b\b\b\b\b\b\b\b\b\b\b\b\b\b\b\b\b\b\b\b\b\b\b\b\b\b\b\b\b\b\b\b\b                                  \b\b\b\b\b\b\b\b\b\b\b\b\b\b\b\b\b\b\b\b\b\b\b\b\b\b\b\b\b\b\b\b\b\b 86% - NEW2-AerialImageDataset.zip\b\b\b\b\b\b\b\b\b\b\b\b\b\b\b\b\b\b\b\b\b\b\b\b\b\b\b\b\b\b\b\b\b\b                                  \b\b\b\b\b\b\b\b\b\b\b\b\b\b\b\b\b\b\b\b\b\b\b\b\b\b\b\b\b\b\b\b\b\b 87% - NEW2-AerialImageDataset.zip\b\b\b\b\b\b\b\b\b\b\b\b\b\b\b\b\b\b\b\b\b\b\b\b\b\b\b\b\b\b\b\b\b\b                                  \b\b\b\b\b\b\b\b\b\b\b\b\b\b\b\b\b\b\b\b\b\b\b\b\b\b\b\b\b\b\b\b\b\b 88% - NEW2-AerialImageDataset.zip\b\b\b\b\b\b\b\b\b\b\b\b\b\b\b\b\b\b\b\b\b\b\b\b\b\b\b\b\b\b\b\b\b\b                                  \b\b\b\b\b\b\b\b\b\b\b\b\b\b\b\b\b\b\b\b\b\b\b\b\b\b\b\b\b\b\b\b\b\b 89% - NEW2-AerialImageDataset.zip\b\b\b\b\b\b\b\b\b\b\b\b\b\b\b\b\b\b\b\b\b\b\b\b\b\b\b\b\b\b\b\b\b\b                                  \b\b\b\b\b\b\b\b\b\b\b\b\b\b\b\b\b\b\b\b\b\b\b\b\b\b\b\b\b\b\b\b\b\b 90% - NEW2-AerialImageDataset.zip\b\b\b\b\b\b\b\b\b\b\b\b\b\b\b\b\b\b\b\b\b\b\b\b\b\b\b\b\b\b\b\b\b\b                                  \b\b\b\b\b\b\b\b\b\b\b\b\b\b\b\b\b\b\b\b\b\b\b\b\b\b\b\b\b\b\b\b\b\b 91% - NEW2-AerialImageDataset.zip\b\b\b\b\b\b\b\b\b\b\b\b\b\b\b\b\b\b\b\b\b\b\b\b\b\b\b\b\b\b\b\b\b\b                                  \b\b\b\b\b\b\b\b\b\b\b\b\b\b\b\b\b\b\b\b\b\b\b\b\b\b\b\b\b\b\b\b\b\b 92% - NEW2-AerialImageDataset.zip\b\b\b\b\b\b\b\b\b\b\b\b\b\b\b\b\b\b\b\b\b\b\b\b\b\b\b\b\b\b\b\b\b\b                                  \b\b\b\b\b\b\b\b\b\b\b\b\b\b\b\b\b\b\b\b\b\b\b\b\b\b\b\b\b\b\b\b\b\b 93% - NEW2-AerialImageDataset.zip\b\b\b\b\b\b\b\b\b\b\b\b\b\b\b\b\b\b\b\b\b\b\b\b\b\b\b\b\b\b\b\b\b\b                                  \b\b\b\b\b\b\b\b\b\b\b\b\b\b\b\b\b\b\b\b\b\b\b\b\b\b\b\b\b\b\b\b\b\b 94% - NEW2-AerialImageDataset.zip\b\b\b\b\b\b\b\b\b\b\b\b\b\b\b\b\b\b\b\b\b\b\b\b\b\b\b\b\b\b\b\b\b\b                                  \b\b\b\b\b\b\b\b\b\b\b\b\b\b\b\b\b\b\b\b\b\b\b\b\b\b\b\b\b\b\b\b\b\b 95% - NEW2-AerialImageDataset.zip\b\b\b\b\b\b\b\b\b\b\b\b\b\b\b\b\b\b\b\b\b\b\b\b\b\b\b\b\b\b\b\b\b\b                                  \b\b\b\b\b\b\b\b\b\b\b\b\b\b\b\b\b\b\b\b\b\b\b\b\b\b\b\b\b\b\b\b\b\b 96% - NEW2-AerialImageDataset.zip\b\b\b\b\b\b\b\b\b\b\b\b\b\b\b\b\b\b\b\b\b\b\b\b\b\b\b\b\b\b\b\b\b\b                                  \b\b\b\b\b\b\b\b\b\b\b\b\b\b\b\b\b\b\b\b\b\b\b\b\b\b\b\b\b\b\b\b\b\b 97% - NEW2-AerialImageDataset.zip\b\b\b\b\b\b\b\b\b\b\b\b\b\b\b\b\b\b\b\b\b\b\b\b\b\b\b\b\b\b\b\b\b\b                                  \b\b\b\b\b\b\b\b\b\b\b\b\b\b\b\b\b\b\b\b\b\b\b\b\b\b\b\b\b\b\b\b\b\b 98% - NEW2-AerialImageDataset.zip\b\b\b\b\b\b\b\b\b\b\b\b\b\b\b\b\b\b\b\b\b\b\b\b\b\b\b\b\b\b\b\b\b\b                                  \b\b\b\b\b\b\b\b\b\b\b\b\b\b\b\b\b\b\b\b\b\b\b\b\b\b\b\b\b\b\b\b\b\b 99% - NEW2-AerialImageDataset.zip\b\b\b\b\b\b\b\b\b\b\b\b\b\b\b\b\b\b\b\b\b\b\b\b\b\b\b\b\b\b\b\b\b\b                                  \b\b\b\b\b\b\b\b\b\b\b\b\b\b\b\b\b\b\b\b\b\b\b\b\b\b\b\b\b\b\b\b\b\b100% 1\b\b\b\b\b\b      \b\b\b\b\b\bEverything is Ok\n",
            "\n",
            "Size:       20957265725\n",
            "Compressed: 20957265875\n",
            "Archive:  NEW2-AerialImageDataset.zip\n",
            "   creating: AerialImageDataset/\n",
            "   creating: AerialImageDataset/test/\n",
            "   creating: AerialImageDataset/test/images/\n",
            "  inflating: AerialImageDataset/test/images/bellingham1.tif  \n",
            "  inflating: AerialImageDataset/test/images/bellingham10.tif  \n",
            "  inflating: AerialImageDataset/test/images/bellingham11.tif  \n",
            "  inflating: AerialImageDataset/test/images/bellingham12.tif  \n",
            "  inflating: AerialImageDataset/test/images/bellingham13.tif  \n",
            "  inflating: AerialImageDataset/test/images/bellingham14.tif  \n",
            "  inflating: AerialImageDataset/test/images/bellingham15.tif  \n",
            "  inflating: AerialImageDataset/test/images/bellingham16.tif  \n",
            "  inflating: AerialImageDataset/test/images/bellingham17.tif  \n",
            "  inflating: AerialImageDataset/test/images/bellingham18.tif  \n",
            "  inflating: AerialImageDataset/test/images/bellingham19.tif  \n",
            "  inflating: AerialImageDataset/test/images/bellingham2.tif  \n",
            "  inflating: AerialImageDataset/test/images/bellingham20.tif  \n",
            "  inflating: AerialImageDataset/test/images/bellingham21.tif  \n",
            "  inflating: AerialImageDataset/test/images/bellingham22.tif  \n",
            "  inflating: AerialImageDataset/test/images/bellingham23.tif  \n",
            "  inflating: AerialImageDataset/test/images/bellingham24.tif  \n",
            "  inflating: AerialImageDataset/test/images/bellingham25.tif  \n",
            "  inflating: AerialImageDataset/test/images/bellingham26.tif  \n",
            "  inflating: AerialImageDataset/test/images/bellingham27.tif  \n",
            "  inflating: AerialImageDataset/test/images/bellingham28.tif  \n",
            "  inflating: AerialImageDataset/test/images/bellingham29.tif  \n",
            "  inflating: AerialImageDataset/test/images/bellingham3.tif  \n",
            "  inflating: AerialImageDataset/test/images/bellingham30.tif  \n",
            "  inflating: AerialImageDataset/test/images/bellingham31.tif  \n",
            "  inflating: AerialImageDataset/test/images/bellingham32.tif  \n",
            "  inflating: AerialImageDataset/test/images/bellingham33.tif  \n",
            "  inflating: AerialImageDataset/test/images/bellingham34.tif  \n",
            "  inflating: AerialImageDataset/test/images/bellingham35.tif  \n",
            "  inflating: AerialImageDataset/test/images/bellingham36.tif  \n",
            "  inflating: AerialImageDataset/test/images/bellingham4.tif  \n",
            "  inflating: AerialImageDataset/test/images/bellingham5.tif  \n",
            "  inflating: AerialImageDataset/test/images/bellingham6.tif  \n",
            "  inflating: AerialImageDataset/test/images/bellingham7.tif  \n",
            "  inflating: AerialImageDataset/test/images/bellingham8.tif  \n",
            "  inflating: AerialImageDataset/test/images/bellingham9.tif  \n",
            "  inflating: AerialImageDataset/test/images/bloomington1.tif  \n",
            "  inflating: AerialImageDataset/test/images/bloomington10.tif  \n",
            "  inflating: AerialImageDataset/test/images/bloomington11.tif  \n",
            "  inflating: AerialImageDataset/test/images/bloomington12.tif  \n",
            "  inflating: AerialImageDataset/test/images/bloomington13.tif  \n",
            "  inflating: AerialImageDataset/test/images/bloomington14.tif  \n",
            "  inflating: AerialImageDataset/test/images/bloomington15.tif  \n",
            "  inflating: AerialImageDataset/test/images/bloomington16.tif  \n",
            "  inflating: AerialImageDataset/test/images/bloomington17.tif  \n",
            "  inflating: AerialImageDataset/test/images/bloomington18.tif  \n",
            "  inflating: AerialImageDataset/test/images/bloomington19.tif  \n",
            "  inflating: AerialImageDataset/test/images/bloomington2.tif  \n",
            "  inflating: AerialImageDataset/test/images/bloomington20.tif  \n",
            "  inflating: AerialImageDataset/test/images/bloomington21.tif  \n",
            "  inflating: AerialImageDataset/test/images/bloomington22.tif  \n",
            "  inflating: AerialImageDataset/test/images/bloomington23.tif  \n",
            "  inflating: AerialImageDataset/test/images/bloomington24.tif  \n",
            "  inflating: AerialImageDataset/test/images/bloomington25.tif  \n",
            "  inflating: AerialImageDataset/test/images/bloomington26.tif  \n",
            "  inflating: AerialImageDataset/test/images/bloomington27.tif  \n",
            "  inflating: AerialImageDataset/test/images/bloomington28.tif  \n",
            "  inflating: AerialImageDataset/test/images/bloomington29.tif  \n",
            "  inflating: AerialImageDataset/test/images/bloomington3.tif  \n",
            "  inflating: AerialImageDataset/test/images/bloomington30.tif  \n",
            "  inflating: AerialImageDataset/test/images/bloomington31.tif  \n",
            "  inflating: AerialImageDataset/test/images/bloomington32.tif  \n",
            "  inflating: AerialImageDataset/test/images/bloomington33.tif  \n",
            "  inflating: AerialImageDataset/test/images/bloomington34.tif  \n",
            "  inflating: AerialImageDataset/test/images/bloomington35.tif  \n",
            "  inflating: AerialImageDataset/test/images/bloomington36.tif  \n",
            "  inflating: AerialImageDataset/test/images/bloomington4.tif  \n",
            "  inflating: AerialImageDataset/test/images/bloomington5.tif  \n",
            "  inflating: AerialImageDataset/test/images/bloomington6.tif  \n",
            "  inflating: AerialImageDataset/test/images/bloomington7.tif  \n",
            "  inflating: AerialImageDataset/test/images/bloomington8.tif  \n",
            "  inflating: AerialImageDataset/test/images/bloomington9.tif  \n",
            "  inflating: AerialImageDataset/test/images/innsbruck1.tif  \n",
            "  inflating: AerialImageDataset/test/images/innsbruck10.tif  \n",
            "  inflating: AerialImageDataset/test/images/innsbruck11.tif  \n",
            "  inflating: AerialImageDataset/test/images/innsbruck12.tif  \n",
            "  inflating: AerialImageDataset/test/images/innsbruck13.tif  \n",
            "  inflating: AerialImageDataset/test/images/innsbruck14.tif  \n",
            "  inflating: AerialImageDataset/test/images/innsbruck15.tif  \n",
            "  inflating: AerialImageDataset/test/images/innsbruck16.tif  \n",
            "  inflating: AerialImageDataset/test/images/innsbruck17.tif  \n",
            "  inflating: AerialImageDataset/test/images/innsbruck18.tif  \n",
            "  inflating: AerialImageDataset/test/images/innsbruck19.tif  \n",
            "  inflating: AerialImageDataset/test/images/innsbruck2.tif  \n",
            "  inflating: AerialImageDataset/test/images/innsbruck20.tif  \n",
            "  inflating: AerialImageDataset/test/images/innsbruck21.tif  \n",
            "  inflating: AerialImageDataset/test/images/innsbruck22.tif  \n",
            "  inflating: AerialImageDataset/test/images/innsbruck23.tif  \n",
            "  inflating: AerialImageDataset/test/images/innsbruck24.tif  \n",
            "  inflating: AerialImageDataset/test/images/innsbruck25.tif  \n",
            "  inflating: AerialImageDataset/test/images/innsbruck26.tif  \n",
            "  inflating: AerialImageDataset/test/images/innsbruck27.tif  \n",
            "  inflating: AerialImageDataset/test/images/innsbruck28.tif  \n",
            "  inflating: AerialImageDataset/test/images/innsbruck29.tif  \n",
            "  inflating: AerialImageDataset/test/images/innsbruck3.tif  \n",
            "  inflating: AerialImageDataset/test/images/innsbruck30.tif  \n",
            "  inflating: AerialImageDataset/test/images/innsbruck31.tif  \n",
            "  inflating: AerialImageDataset/test/images/innsbruck32.tif  \n",
            "  inflating: AerialImageDataset/test/images/innsbruck33.tif  \n",
            "  inflating: AerialImageDataset/test/images/innsbruck34.tif  \n",
            "  inflating: AerialImageDataset/test/images/innsbruck35.tif  \n",
            "  inflating: AerialImageDataset/test/images/innsbruck36.tif  \n",
            "  inflating: AerialImageDataset/test/images/innsbruck4.tif  \n",
            "  inflating: AerialImageDataset/test/images/innsbruck5.tif  \n",
            "  inflating: AerialImageDataset/test/images/innsbruck6.tif  \n",
            "  inflating: AerialImageDataset/test/images/innsbruck7.tif  \n",
            "  inflating: AerialImageDataset/test/images/innsbruck8.tif  \n",
            "  inflating: AerialImageDataset/test/images/innsbruck9.tif  \n",
            "  inflating: AerialImageDataset/test/images/sfo1.tif  \n",
            "  inflating: AerialImageDataset/test/images/sfo10.tif  \n",
            "  inflating: AerialImageDataset/test/images/sfo11.tif  \n",
            "  inflating: AerialImageDataset/test/images/sfo12.tif  \n",
            "  inflating: AerialImageDataset/test/images/sfo13.tif  \n",
            "  inflating: AerialImageDataset/test/images/sfo14.tif  \n",
            "  inflating: AerialImageDataset/test/images/sfo15.tif  \n",
            "  inflating: AerialImageDataset/test/images/sfo16.tif  \n",
            "  inflating: AerialImageDataset/test/images/sfo17.tif  \n",
            "  inflating: AerialImageDataset/test/images/sfo18.tif  \n",
            "  inflating: AerialImageDataset/test/images/sfo19.tif  \n",
            "  inflating: AerialImageDataset/test/images/sfo2.tif  \n",
            "  inflating: AerialImageDataset/test/images/sfo20.tif  \n",
            "  inflating: AerialImageDataset/test/images/sfo21.tif  \n",
            "  inflating: AerialImageDataset/test/images/sfo22.tif  \n",
            "  inflating: AerialImageDataset/test/images/sfo23.tif  \n",
            "  inflating: AerialImageDataset/test/images/sfo24.tif  \n",
            "  inflating: AerialImageDataset/test/images/sfo25.tif  \n",
            "  inflating: AerialImageDataset/test/images/sfo26.tif  \n",
            "  inflating: AerialImageDataset/test/images/sfo27.tif  \n",
            "  inflating: AerialImageDataset/test/images/sfo28.tif  \n",
            "  inflating: AerialImageDataset/test/images/sfo29.tif  \n",
            "  inflating: AerialImageDataset/test/images/sfo3.tif  \n",
            "  inflating: AerialImageDataset/test/images/sfo30.tif  \n",
            "  inflating: AerialImageDataset/test/images/sfo31.tif  \n",
            "  inflating: AerialImageDataset/test/images/sfo32.tif  \n",
            "  inflating: AerialImageDataset/test/images/sfo33.tif  \n",
            "  inflating: AerialImageDataset/test/images/sfo34.tif  \n",
            "  inflating: AerialImageDataset/test/images/sfo35.tif  \n",
            "  inflating: AerialImageDataset/test/images/sfo36.tif  \n",
            "  inflating: AerialImageDataset/test/images/sfo4.tif  \n",
            "  inflating: AerialImageDataset/test/images/sfo5.tif  \n",
            "  inflating: AerialImageDataset/test/images/sfo6.tif  \n",
            "  inflating: AerialImageDataset/test/images/sfo7.tif  \n",
            "  inflating: AerialImageDataset/test/images/sfo8.tif  \n",
            "  inflating: AerialImageDataset/test/images/sfo9.tif  \n",
            "  inflating: AerialImageDataset/test/images/tyrol-e1.tif  \n",
            "  inflating: AerialImageDataset/test/images/tyrol-e10.tif  \n",
            "  inflating: AerialImageDataset/test/images/tyrol-e11.tif  \n",
            "  inflating: AerialImageDataset/test/images/tyrol-e12.tif  \n",
            "  inflating: AerialImageDataset/test/images/tyrol-e13.tif  \n",
            "  inflating: AerialImageDataset/test/images/tyrol-e14.tif  \n",
            "  inflating: AerialImageDataset/test/images/tyrol-e15.tif  \n",
            "  inflating: AerialImageDataset/test/images/tyrol-e16.tif  \n",
            "  inflating: AerialImageDataset/test/images/tyrol-e17.tif  \n",
            "  inflating: AerialImageDataset/test/images/tyrol-e18.tif  \n",
            "  inflating: AerialImageDataset/test/images/tyrol-e19.tif  \n",
            "  inflating: AerialImageDataset/test/images/tyrol-e2.tif  \n",
            "  inflating: AerialImageDataset/test/images/tyrol-e20.tif  \n",
            "  inflating: AerialImageDataset/test/images/tyrol-e21.tif  \n",
            "  inflating: AerialImageDataset/test/images/tyrol-e22.tif  \n",
            "  inflating: AerialImageDataset/test/images/tyrol-e23.tif  \n",
            "  inflating: AerialImageDataset/test/images/tyrol-e24.tif  \n",
            "  inflating: AerialImageDataset/test/images/tyrol-e25.tif  \n",
            "  inflating: AerialImageDataset/test/images/tyrol-e26.tif  \n",
            "  inflating: AerialImageDataset/test/images/tyrol-e27.tif  \n",
            "  inflating: AerialImageDataset/test/images/tyrol-e28.tif  \n",
            "  inflating: AerialImageDataset/test/images/tyrol-e29.tif  \n",
            "  inflating: AerialImageDataset/test/images/tyrol-e3.tif  \n",
            "  inflating: AerialImageDataset/test/images/tyrol-e30.tif  \n",
            "  inflating: AerialImageDataset/test/images/tyrol-e31.tif  \n",
            "  inflating: AerialImageDataset/test/images/tyrol-e32.tif  \n",
            "  inflating: AerialImageDataset/test/images/tyrol-e33.tif  \n",
            "  inflating: AerialImageDataset/test/images/tyrol-e34.tif  \n",
            "  inflating: AerialImageDataset/test/images/tyrol-e35.tif  \n",
            "  inflating: AerialImageDataset/test/images/tyrol-e36.tif  \n",
            "  inflating: AerialImageDataset/test/images/tyrol-e4.tif  \n",
            "  inflating: AerialImageDataset/test/images/tyrol-e5.tif  \n",
            "  inflating: AerialImageDataset/test/images/tyrol-e6.tif  \n",
            "  inflating: AerialImageDataset/test/images/tyrol-e7.tif  \n",
            "  inflating: AerialImageDataset/test/images/tyrol-e8.tif  \n",
            "  inflating: AerialImageDataset/test/images/tyrol-e9.tif  \n",
            "   creating: AerialImageDataset/train/\n",
            "   creating: AerialImageDataset/train/gt/\n",
            "  inflating: AerialImageDataset/train/gt/austin1.tif  \n",
            "  inflating: AerialImageDataset/train/gt/austin10.tif  \n",
            "  inflating: AerialImageDataset/train/gt/austin11.tif  \n",
            "  inflating: AerialImageDataset/train/gt/austin12.tif  \n",
            "  inflating: AerialImageDataset/train/gt/austin13.tif  \n",
            "  inflating: AerialImageDataset/train/gt/austin14.tif  \n",
            "  inflating: AerialImageDataset/train/gt/austin15.tif  \n",
            "  inflating: AerialImageDataset/train/gt/austin16.tif  \n",
            "  inflating: AerialImageDataset/train/gt/austin17.tif  \n",
            "  inflating: AerialImageDataset/train/gt/austin18.tif  \n",
            "  inflating: AerialImageDataset/train/gt/austin19.tif  \n",
            "  inflating: AerialImageDataset/train/gt/austin2.tif  \n",
            "  inflating: AerialImageDataset/train/gt/austin20.tif  \n",
            "  inflating: AerialImageDataset/train/gt/austin21.tif  \n",
            "  inflating: AerialImageDataset/train/gt/austin22.tif  \n",
            "  inflating: AerialImageDataset/train/gt/austin23.tif  \n",
            "  inflating: AerialImageDataset/train/gt/austin24.tif  \n",
            "  inflating: AerialImageDataset/train/gt/austin25.tif  \n",
            "  inflating: AerialImageDataset/train/gt/austin26.tif  \n",
            "  inflating: AerialImageDataset/train/gt/austin27.tif  \n",
            "  inflating: AerialImageDataset/train/gt/austin28.tif  \n",
            "  inflating: AerialImageDataset/train/gt/austin29.tif  \n",
            "  inflating: AerialImageDataset/train/gt/austin3.tif  \n",
            "  inflating: AerialImageDataset/train/gt/austin30.tif  \n",
            "  inflating: AerialImageDataset/train/gt/austin31.tif  \n",
            "  inflating: AerialImageDataset/train/gt/austin32.tif  \n",
            "  inflating: AerialImageDataset/train/gt/austin33.tif  \n",
            "  inflating: AerialImageDataset/train/gt/austin34.tif  \n",
            "  inflating: AerialImageDataset/train/gt/austin35.tif  \n",
            "  inflating: AerialImageDataset/train/gt/austin36.tif  \n",
            "  inflating: AerialImageDataset/train/gt/austin4.tif  \n",
            "  inflating: AerialImageDataset/train/gt/austin5.tif  \n",
            "  inflating: AerialImageDataset/train/gt/austin6.tif  \n",
            "  inflating: AerialImageDataset/train/gt/austin7.tif  \n",
            "  inflating: AerialImageDataset/train/gt/austin8.tif  \n",
            "  inflating: AerialImageDataset/train/gt/austin9.tif  \n",
            "  inflating: AerialImageDataset/train/gt/chicago1.tif  \n",
            "  inflating: AerialImageDataset/train/gt/chicago10.tif  \n",
            "  inflating: AerialImageDataset/train/gt/chicago11.tif  \n",
            "  inflating: AerialImageDataset/train/gt/chicago12.tif  \n",
            "  inflating: AerialImageDataset/train/gt/chicago13.tif  \n",
            "  inflating: AerialImageDataset/train/gt/chicago14.tif  \n",
            "  inflating: AerialImageDataset/train/gt/chicago15.tif  \n",
            "  inflating: AerialImageDataset/train/gt/chicago16.tif  \n",
            "  inflating: AerialImageDataset/train/gt/chicago17.tif  \n",
            "  inflating: AerialImageDataset/train/gt/chicago18.tif  \n",
            "  inflating: AerialImageDataset/train/gt/chicago19.tif  \n",
            "  inflating: AerialImageDataset/train/gt/chicago2.tif  \n",
            "  inflating: AerialImageDataset/train/gt/chicago20.tif  \n",
            "  inflating: AerialImageDataset/train/gt/chicago21.tif  \n",
            "  inflating: AerialImageDataset/train/gt/chicago22.tif  \n",
            "  inflating: AerialImageDataset/train/gt/chicago23.tif  \n",
            "  inflating: AerialImageDataset/train/gt/chicago24.tif  \n",
            "  inflating: AerialImageDataset/train/gt/chicago25.tif  \n",
            "  inflating: AerialImageDataset/train/gt/chicago26.tif  \n",
            "  inflating: AerialImageDataset/train/gt/chicago27.tif  \n",
            "  inflating: AerialImageDataset/train/gt/chicago28.tif  \n",
            "  inflating: AerialImageDataset/train/gt/chicago29.tif  \n",
            "  inflating: AerialImageDataset/train/gt/chicago3.tif  \n",
            "  inflating: AerialImageDataset/train/gt/chicago30.tif  \n",
            "  inflating: AerialImageDataset/train/gt/chicago31.tif  \n",
            "  inflating: AerialImageDataset/train/gt/chicago32.tif  \n",
            "  inflating: AerialImageDataset/train/gt/chicago33.tif  \n",
            "  inflating: AerialImageDataset/train/gt/chicago34.tif  \n",
            "  inflating: AerialImageDataset/train/gt/chicago35.tif  \n",
            "  inflating: AerialImageDataset/train/gt/chicago36.tif  \n",
            "  inflating: AerialImageDataset/train/gt/chicago4.tif  \n",
            "  inflating: AerialImageDataset/train/gt/chicago5.tif  \n",
            "  inflating: AerialImageDataset/train/gt/chicago6.tif  \n",
            "  inflating: AerialImageDataset/train/gt/chicago7.tif  \n",
            "  inflating: AerialImageDataset/train/gt/chicago8.tif  \n",
            "  inflating: AerialImageDataset/train/gt/chicago9.tif  \n",
            "  inflating: AerialImageDataset/train/gt/kitsap1.tif  \n",
            "  inflating: AerialImageDataset/train/gt/kitsap10.tif  \n",
            "  inflating: AerialImageDataset/train/gt/kitsap11.tif  \n",
            "  inflating: AerialImageDataset/train/gt/kitsap12.tif  \n",
            "  inflating: AerialImageDataset/train/gt/kitsap13.tif  \n",
            "  inflating: AerialImageDataset/train/gt/kitsap14.tif  \n",
            "  inflating: AerialImageDataset/train/gt/kitsap15.tif  \n",
            "  inflating: AerialImageDataset/train/gt/kitsap16.tif  \n",
            "  inflating: AerialImageDataset/train/gt/kitsap17.tif  \n",
            "  inflating: AerialImageDataset/train/gt/kitsap18.tif  \n",
            "  inflating: AerialImageDataset/train/gt/kitsap19.tif  \n",
            "  inflating: AerialImageDataset/train/gt/kitsap2.tif  \n",
            "  inflating: AerialImageDataset/train/gt/kitsap20.tif  \n",
            "  inflating: AerialImageDataset/train/gt/kitsap21.tif  \n",
            "  inflating: AerialImageDataset/train/gt/kitsap22.tif  \n",
            "  inflating: AerialImageDataset/train/gt/kitsap23.tif  \n",
            "  inflating: AerialImageDataset/train/gt/kitsap24.tif  \n",
            "  inflating: AerialImageDataset/train/gt/kitsap25.tif  \n",
            "  inflating: AerialImageDataset/train/gt/kitsap26.tif  \n",
            "  inflating: AerialImageDataset/train/gt/kitsap27.tif  \n",
            "  inflating: AerialImageDataset/train/gt/kitsap28.tif  \n",
            "  inflating: AerialImageDataset/train/gt/kitsap29.tif  \n",
            "  inflating: AerialImageDataset/train/gt/kitsap3.tif  \n",
            "  inflating: AerialImageDataset/train/gt/kitsap30.tif  \n",
            "  inflating: AerialImageDataset/train/gt/kitsap31.tif  \n",
            "  inflating: AerialImageDataset/train/gt/kitsap32.tif  \n",
            "  inflating: AerialImageDataset/train/gt/kitsap33.tif  \n",
            "  inflating: AerialImageDataset/train/gt/kitsap34.tif  \n",
            "  inflating: AerialImageDataset/train/gt/kitsap35.tif  \n",
            "  inflating: AerialImageDataset/train/gt/kitsap36.tif  \n",
            "  inflating: AerialImageDataset/train/gt/kitsap4.tif  \n",
            "  inflating: AerialImageDataset/train/gt/kitsap5.tif  \n",
            "  inflating: AerialImageDataset/train/gt/kitsap6.tif  \n",
            "  inflating: AerialImageDataset/train/gt/kitsap7.tif  \n",
            "  inflating: AerialImageDataset/train/gt/kitsap8.tif  \n",
            "  inflating: AerialImageDataset/train/gt/kitsap9.tif  \n",
            "  inflating: AerialImageDataset/train/gt/tyrol-w1.tif  \n",
            "  inflating: AerialImageDataset/train/gt/tyrol-w10.tif  \n",
            "  inflating: AerialImageDataset/train/gt/tyrol-w11.tif  \n",
            "  inflating: AerialImageDataset/train/gt/tyrol-w12.tif  \n",
            "  inflating: AerialImageDataset/train/gt/tyrol-w13.tif  \n",
            "  inflating: AerialImageDataset/train/gt/tyrol-w14.tif  \n",
            "  inflating: AerialImageDataset/train/gt/tyrol-w15.tif  \n",
            "  inflating: AerialImageDataset/train/gt/tyrol-w16.tif  \n",
            "  inflating: AerialImageDataset/train/gt/tyrol-w17.tif  \n",
            "  inflating: AerialImageDataset/train/gt/tyrol-w18.tif  \n",
            "  inflating: AerialImageDataset/train/gt/tyrol-w19.tif  \n",
            "  inflating: AerialImageDataset/train/gt/tyrol-w2.tif  \n",
            "  inflating: AerialImageDataset/train/gt/tyrol-w20.tif  \n",
            "  inflating: AerialImageDataset/train/gt/tyrol-w21.tif  \n",
            "  inflating: AerialImageDataset/train/gt/tyrol-w22.tif  \n",
            "  inflating: AerialImageDataset/train/gt/tyrol-w23.tif  \n",
            "  inflating: AerialImageDataset/train/gt/tyrol-w24.tif  \n",
            "  inflating: AerialImageDataset/train/gt/tyrol-w25.tif  \n",
            "  inflating: AerialImageDataset/train/gt/tyrol-w26.tif  \n",
            "  inflating: AerialImageDataset/train/gt/tyrol-w27.tif  \n",
            "  inflating: AerialImageDataset/train/gt/tyrol-w28.tif  \n",
            "  inflating: AerialImageDataset/train/gt/tyrol-w29.tif  \n",
            "  inflating: AerialImageDataset/train/gt/tyrol-w3.tif  \n",
            "  inflating: AerialImageDataset/train/gt/tyrol-w30.tif  \n",
            "  inflating: AerialImageDataset/train/gt/tyrol-w31.tif  \n",
            "  inflating: AerialImageDataset/train/gt/tyrol-w32.tif  \n",
            "  inflating: AerialImageDataset/train/gt/tyrol-w33.tif  \n",
            "  inflating: AerialImageDataset/train/gt/tyrol-w34.tif  \n",
            "  inflating: AerialImageDataset/train/gt/tyrol-w35.tif  \n",
            "  inflating: AerialImageDataset/train/gt/tyrol-w36.tif  \n",
            "  inflating: AerialImageDataset/train/gt/tyrol-w4.tif  \n",
            "  inflating: AerialImageDataset/train/gt/tyrol-w5.tif  \n",
            "  inflating: AerialImageDataset/train/gt/tyrol-w6.tif  \n",
            "  inflating: AerialImageDataset/train/gt/tyrol-w7.tif  \n",
            "  inflating: AerialImageDataset/train/gt/tyrol-w8.tif  \n",
            "  inflating: AerialImageDataset/train/gt/tyrol-w9.tif  \n",
            "  inflating: AerialImageDataset/train/gt/vienna1.tif  \n",
            "  inflating: AerialImageDataset/train/gt/vienna10.tif  \n",
            "  inflating: AerialImageDataset/train/gt/vienna11.tif  \n",
            "  inflating: AerialImageDataset/train/gt/vienna12.tif  \n",
            "  inflating: AerialImageDataset/train/gt/vienna13.tif  \n",
            "  inflating: AerialImageDataset/train/gt/vienna14.tif  \n",
            "  inflating: AerialImageDataset/train/gt/vienna15.tif  \n",
            "  inflating: AerialImageDataset/train/gt/vienna16.tif  \n",
            "  inflating: AerialImageDataset/train/gt/vienna17.tif  \n",
            "  inflating: AerialImageDataset/train/gt/vienna18.tif  \n",
            "  inflating: AerialImageDataset/train/gt/vienna19.tif  \n",
            "  inflating: AerialImageDataset/train/gt/vienna2.tif  \n",
            "  inflating: AerialImageDataset/train/gt/vienna20.tif  \n",
            "  inflating: AerialImageDataset/train/gt/vienna21.tif  \n",
            "  inflating: AerialImageDataset/train/gt/vienna22.tif  \n",
            "  inflating: AerialImageDataset/train/gt/vienna23.tif  \n",
            "  inflating: AerialImageDataset/train/gt/vienna24.tif  \n",
            "  inflating: AerialImageDataset/train/gt/vienna25.tif  \n",
            "  inflating: AerialImageDataset/train/gt/vienna26.tif  \n",
            "  inflating: AerialImageDataset/train/gt/vienna27.tif  \n",
            "  inflating: AerialImageDataset/train/gt/vienna28.tif  \n",
            "  inflating: AerialImageDataset/train/gt/vienna29.tif  \n",
            "  inflating: AerialImageDataset/train/gt/vienna3.tif  \n",
            "  inflating: AerialImageDataset/train/gt/vienna30.tif  \n",
            "  inflating: AerialImageDataset/train/gt/vienna31.tif  \n",
            "  inflating: AerialImageDataset/train/gt/vienna32.tif  \n",
            "  inflating: AerialImageDataset/train/gt/vienna33.tif  \n",
            "  inflating: AerialImageDataset/train/gt/vienna34.tif  \n",
            "  inflating: AerialImageDataset/train/gt/vienna35.tif  \n",
            "  inflating: AerialImageDataset/train/gt/vienna36.tif  \n",
            "  inflating: AerialImageDataset/train/gt/vienna4.tif  \n",
            "  inflating: AerialImageDataset/train/gt/vienna5.tif  \n",
            "  inflating: AerialImageDataset/train/gt/vienna6.tif  \n",
            "  inflating: AerialImageDataset/train/gt/vienna7.tif  \n",
            "  inflating: AerialImageDataset/train/gt/vienna8.tif  \n",
            "  inflating: AerialImageDataset/train/gt/vienna9.tif  \n",
            "   creating: AerialImageDataset/train/images/\n",
            "  inflating: AerialImageDataset/train/images/austin1.tif  \n",
            "  inflating: AerialImageDataset/train/images/austin10.tif  \n",
            "  inflating: AerialImageDataset/train/images/austin11.tif  \n",
            "  inflating: AerialImageDataset/train/images/austin12.tif  \n",
            "  inflating: AerialImageDataset/train/images/austin13.tif  \n",
            "  inflating: AerialImageDataset/train/images/austin14.tif  \n",
            "  inflating: AerialImageDataset/train/images/austin15.tif  \n",
            "  inflating: AerialImageDataset/train/images/austin16.tif  \n",
            "  inflating: AerialImageDataset/train/images/austin17.tif  \n",
            "  inflating: AerialImageDataset/train/images/austin18.tif  \n",
            "  inflating: AerialImageDataset/train/images/austin19.tif  \n",
            "  inflating: AerialImageDataset/train/images/austin2.tif  \n",
            "  inflating: AerialImageDataset/train/images/austin20.tif  \n",
            "  inflating: AerialImageDataset/train/images/austin21.tif  \n",
            "  inflating: AerialImageDataset/train/images/austin22.tif  \n",
            "  inflating: AerialImageDataset/train/images/austin23.tif  \n",
            "  inflating: AerialImageDataset/train/images/austin24.tif  \n",
            "  inflating: AerialImageDataset/train/images/austin25.tif  \n",
            "  inflating: AerialImageDataset/train/images/austin26.tif  \n",
            "  inflating: AerialImageDataset/train/images/austin27.tif  \n",
            "  inflating: AerialImageDataset/train/images/austin28.tif  \n",
            "  inflating: AerialImageDataset/train/images/austin29.tif  \n",
            "  inflating: AerialImageDataset/train/images/austin3.tif  \n",
            "  inflating: AerialImageDataset/train/images/austin30.tif  \n",
            "  inflating: AerialImageDataset/train/images/austin31.tif  \n",
            "  inflating: AerialImageDataset/train/images/austin32.tif  \n",
            "  inflating: AerialImageDataset/train/images/austin33.tif  \n",
            "  inflating: AerialImageDataset/train/images/austin34.tif  \n",
            "  inflating: AerialImageDataset/train/images/austin35.tif  \n",
            "  inflating: AerialImageDataset/train/images/austin36.tif  \n",
            "  inflating: AerialImageDataset/train/images/austin4.tif  \n",
            "  inflating: AerialImageDataset/train/images/austin5.tif  \n",
            "  inflating: AerialImageDataset/train/images/austin6.tif  \n",
            "  inflating: AerialImageDataset/train/images/austin7.tif  \n",
            "  inflating: AerialImageDataset/train/images/austin8.tif  \n",
            "  inflating: AerialImageDataset/train/images/austin9.tif  \n",
            "  inflating: AerialImageDataset/train/images/chicago1.tif  \n",
            "  inflating: AerialImageDataset/train/images/chicago10.tif  \n",
            "  inflating: AerialImageDataset/train/images/chicago11.tif  \n",
            "  inflating: AerialImageDataset/train/images/chicago12.tif  \n",
            "  inflating: AerialImageDataset/train/images/chicago13.tif  \n",
            "  inflating: AerialImageDataset/train/images/chicago14.tif  \n",
            "  inflating: AerialImageDataset/train/images/chicago15.tif  \n",
            "  inflating: AerialImageDataset/train/images/chicago16.tif  \n",
            "  inflating: AerialImageDataset/train/images/chicago17.tif  \n",
            "  inflating: AerialImageDataset/train/images/chicago18.tif  \n",
            "  inflating: AerialImageDataset/train/images/chicago19.tif  \n",
            "  inflating: AerialImageDataset/train/images/chicago2.tif  \n",
            "  inflating: AerialImageDataset/train/images/chicago20.tif  \n",
            "  inflating: AerialImageDataset/train/images/chicago21.tif  \n",
            "  inflating: AerialImageDataset/train/images/chicago22.tif  \n",
            "  inflating: AerialImageDataset/train/images/chicago23.tif  \n",
            "  inflating: AerialImageDataset/train/images/chicago24.tif  \n",
            "  inflating: AerialImageDataset/train/images/chicago25.tif  \n",
            "  inflating: AerialImageDataset/train/images/chicago26.tif  \n",
            "  inflating: AerialImageDataset/train/images/chicago27.tif  \n",
            "  inflating: AerialImageDataset/train/images/chicago28.tif  \n",
            "  inflating: AerialImageDataset/train/images/chicago29.tif  \n",
            "  inflating: AerialImageDataset/train/images/chicago3.tif  \n",
            "  inflating: AerialImageDataset/train/images/chicago30.tif  \n",
            "  inflating: AerialImageDataset/train/images/chicago31.tif  \n",
            "  inflating: AerialImageDataset/train/images/chicago32.tif  \n",
            "  inflating: AerialImageDataset/train/images/chicago33.tif  \n",
            "  inflating: AerialImageDataset/train/images/chicago34.tif  \n",
            "  inflating: AerialImageDataset/train/images/chicago35.tif  \n",
            "  inflating: AerialImageDataset/train/images/chicago36.tif  \n",
            "  inflating: AerialImageDataset/train/images/chicago4.tif  \n",
            "  inflating: AerialImageDataset/train/images/chicago5.tif  \n",
            "  inflating: AerialImageDataset/train/images/chicago6.tif  \n",
            "  inflating: AerialImageDataset/train/images/chicago7.tif  \n",
            "  inflating: AerialImageDataset/train/images/chicago8.tif  \n",
            "  inflating: AerialImageDataset/train/images/chicago9.tif  \n",
            "  inflating: AerialImageDataset/train/images/kitsap1.tif  \n",
            "  inflating: AerialImageDataset/train/images/kitsap10.tif  \n",
            "  inflating: AerialImageDataset/train/images/kitsap11.tif  \n",
            "  inflating: AerialImageDataset/train/images/kitsap12.tif  \n",
            "  inflating: AerialImageDataset/train/images/kitsap13.tif  \n",
            "  inflating: AerialImageDataset/train/images/kitsap14.tif  \n",
            "  inflating: AerialImageDataset/train/images/kitsap15.tif  \n",
            "  inflating: AerialImageDataset/train/images/kitsap16.tif  \n",
            "  inflating: AerialImageDataset/train/images/kitsap17.tif  \n",
            "  inflating: AerialImageDataset/train/images/kitsap18.tif  \n",
            "  inflating: AerialImageDataset/train/images/kitsap19.tif  \n",
            "  inflating: AerialImageDataset/train/images/kitsap2.tif  \n",
            "  inflating: AerialImageDataset/train/images/kitsap20.tif  \n",
            "  inflating: AerialImageDataset/train/images/kitsap21.tif  \n",
            "  inflating: AerialImageDataset/train/images/kitsap22.tif  \n",
            "  inflating: AerialImageDataset/train/images/kitsap23.tif  \n",
            "  inflating: AerialImageDataset/train/images/kitsap24.tif  \n",
            "  inflating: AerialImageDataset/train/images/kitsap25.tif  \n",
            "  inflating: AerialImageDataset/train/images/kitsap26.tif  \n",
            "  inflating: AerialImageDataset/train/images/kitsap27.tif  \n",
            "  inflating: AerialImageDataset/train/images/kitsap28.tif  \n",
            "  inflating: AerialImageDataset/train/images/kitsap29.tif  \n",
            "  inflating: AerialImageDataset/train/images/kitsap3.tif  \n",
            "  inflating: AerialImageDataset/train/images/kitsap30.tif  \n",
            "  inflating: AerialImageDataset/train/images/kitsap31.tif  \n",
            "  inflating: AerialImageDataset/train/images/kitsap32.tif  \n",
            "  inflating: AerialImageDataset/train/images/kitsap33.tif  \n",
            "  inflating: AerialImageDataset/train/images/kitsap34.tif  \n",
            "  inflating: AerialImageDataset/train/images/kitsap35.tif  \n",
            "  inflating: AerialImageDataset/train/images/kitsap36.tif  \n",
            "  inflating: AerialImageDataset/train/images/kitsap4.tif  \n",
            "  inflating: AerialImageDataset/train/images/kitsap5.tif  \n",
            "  inflating: AerialImageDataset/train/images/kitsap6.tif  \n",
            "  inflating: AerialImageDataset/train/images/kitsap7.tif  \n",
            "  inflating: AerialImageDataset/train/images/kitsap8.tif  \n",
            "  inflating: AerialImageDataset/train/images/kitsap9.tif  \n",
            "  inflating: AerialImageDataset/train/images/tyrol-w1.tif  \n",
            "  inflating: AerialImageDataset/train/images/tyrol-w10.tif  \n",
            "  inflating: AerialImageDataset/train/images/tyrol-w11.tif  \n",
            "  inflating: AerialImageDataset/train/images/tyrol-w12.tif  \n",
            "  inflating: AerialImageDataset/train/images/tyrol-w13.tif  \n",
            "  inflating: AerialImageDataset/train/images/tyrol-w14.tif  \n",
            "  inflating: AerialImageDataset/train/images/tyrol-w15.tif  \n",
            "  inflating: AerialImageDataset/train/images/tyrol-w16.tif  \n",
            "  inflating: AerialImageDataset/train/images/tyrol-w17.tif  \n",
            "  inflating: AerialImageDataset/train/images/tyrol-w18.tif  \n",
            "  inflating: AerialImageDataset/train/images/tyrol-w19.tif  \n",
            "  inflating: AerialImageDataset/train/images/tyrol-w2.tif  \n",
            "  inflating: AerialImageDataset/train/images/tyrol-w20.tif  \n",
            "  inflating: AerialImageDataset/train/images/tyrol-w21.tif  \n",
            "  inflating: AerialImageDataset/train/images/tyrol-w22.tif  \n",
            "  inflating: AerialImageDataset/train/images/tyrol-w23.tif  \n",
            "  inflating: AerialImageDataset/train/images/tyrol-w24.tif  \n",
            "  inflating: AerialImageDataset/train/images/tyrol-w25.tif  \n",
            "  inflating: AerialImageDataset/train/images/tyrol-w26.tif  \n",
            "  inflating: AerialImageDataset/train/images/tyrol-w27.tif  \n",
            "  inflating: AerialImageDataset/train/images/tyrol-w28.tif  \n",
            "  inflating: AerialImageDataset/train/images/tyrol-w29.tif  \n",
            "  inflating: AerialImageDataset/train/images/tyrol-w3.tif  \n",
            "  inflating: AerialImageDataset/train/images/tyrol-w30.tif  \n",
            "  inflating: AerialImageDataset/train/images/tyrol-w31.tif  \n",
            "  inflating: AerialImageDataset/train/images/tyrol-w32.tif  \n",
            "  inflating: AerialImageDataset/train/images/tyrol-w33.tif  \n",
            "  inflating: AerialImageDataset/train/images/tyrol-w34.tif  \n",
            "  inflating: AerialImageDataset/train/images/tyrol-w35.tif  \n",
            "  inflating: AerialImageDataset/train/images/tyrol-w36.tif  \n",
            "  inflating: AerialImageDataset/train/images/tyrol-w4.tif  \n",
            "  inflating: AerialImageDataset/train/images/tyrol-w5.tif  \n",
            "  inflating: AerialImageDataset/train/images/tyrol-w6.tif  \n",
            "  inflating: AerialImageDataset/train/images/tyrol-w7.tif  \n",
            "  inflating: AerialImageDataset/train/images/tyrol-w8.tif  \n",
            "  inflating: AerialImageDataset/train/images/tyrol-w9.tif  \n",
            "  inflating: AerialImageDataset/train/images/vienna1.tif  \n",
            "  inflating: AerialImageDataset/train/images/vienna10.tif  \n",
            "  inflating: AerialImageDataset/train/images/vienna11.tif  \n",
            "  inflating: AerialImageDataset/train/images/vienna12.tif  \n",
            "  inflating: AerialImageDataset/train/images/vienna13.tif  \n",
            "  inflating: AerialImageDataset/train/images/vienna14.tif  \n",
            "  inflating: AerialImageDataset/train/images/vienna15.tif  \n",
            "  inflating: AerialImageDataset/train/images/vienna16.tif  \n",
            "  inflating: AerialImageDataset/train/images/vienna17.tif  \n",
            "  inflating: AerialImageDataset/train/images/vienna18.tif  \n",
            "  inflating: AerialImageDataset/train/images/vienna19.tif  \n",
            "  inflating: AerialImageDataset/train/images/vienna2.tif  \n",
            "  inflating: AerialImageDataset/train/images/vienna20.tif  \n",
            "  inflating: AerialImageDataset/train/images/vienna21.tif  \n",
            "  inflating: AerialImageDataset/train/images/vienna22.tif  \n",
            "  inflating: AerialImageDataset/train/images/vienna23.tif  \n",
            "  inflating: AerialImageDataset/train/images/vienna24.tif  \n",
            "  inflating: AerialImageDataset/train/images/vienna25.tif  \n",
            "  inflating: AerialImageDataset/train/images/vienna26.tif  \n",
            "  inflating: AerialImageDataset/train/images/vienna27.tif  \n",
            "  inflating: AerialImageDataset/train/images/vienna28.tif  \n",
            "  inflating: AerialImageDataset/train/images/vienna29.tif  \n",
            "  inflating: AerialImageDataset/train/images/vienna3.tif  \n",
            "  inflating: AerialImageDataset/train/images/vienna30.tif  \n",
            "  inflating: AerialImageDataset/train/images/vienna31.tif  \n",
            "  inflating: AerialImageDataset/train/images/vienna32.tif  \n",
            "  inflating: AerialImageDataset/train/images/vienna33.tif  \n",
            "  inflating: AerialImageDataset/train/images/vienna34.tif  \n",
            "  inflating: AerialImageDataset/train/images/vienna35.tif  \n",
            "  inflating: AerialImageDataset/train/images/vienna36.tif  \n",
            "  inflating: AerialImageDataset/train/images/vienna4.tif  \n",
            "  inflating: AerialImageDataset/train/images/vienna5.tif  \n",
            "  inflating: AerialImageDataset/train/images/vienna6.tif  \n",
            "  inflating: AerialImageDataset/train/images/vienna7.tif  \n",
            "  inflating: AerialImageDataset/train/images/vienna8.tif  \n",
            "  inflating: AerialImageDataset/train/images/vienna9.tif  \n",
            "rm: remove regular file 'aerialimagelabeling.7z.001'? rm: remove regular file 'aerialimagelabeling.7z.002'? rm: remove regular file 'aerialimagelabeling.7z.003'? rm: remove regular file 'aerialimagelabeling.7z.004'? rm: remove regular file 'aerialimagelabeling.7z.005'? "
          ],
          "name": "stdout"
        }
      ]
    },
    {
      "cell_type": "markdown",
      "metadata": {
        "id": "2dv7ayja6qjX",
        "colab_type": "text"
      },
      "source": [
        "Remove dependent 7z parts and zip file once unzipping is completed to clear some storage space."
      ]
    },
    {
      "cell_type": "code",
      "metadata": {
        "id": "KXG_e3ugsZAF",
        "colab_type": "code",
        "colab": {}
      },
      "source": [
        "!rm -rf /content/aerialimagelabeling*\n",
        "!rm -rf /content/NEW2-AerialImageDataset.zip"
      ],
      "execution_count": 0,
      "outputs": []
    },
    {
      "cell_type": "markdown",
      "metadata": {
        "id": "r802b5aZCIV2",
        "colab_type": "text"
      },
      "source": [
        "## Preprocess the data \n",
        "Since each image is of a high dimension and we only have 180 training images, we can take 2 approaches - \n",
        "1) Resize the image to lower dimensions like 250 X 250 and then train the network on the resized images.\n",
        "2) Slice each image of 5k X 5k over a sliding window stride of 250 to generate an image of size 250 X 250 and train the network on the patches. This approach generates ~400 image patches for each 5k X 5k image."
      ]
    },
    {
      "cell_type": "code",
      "metadata": {
        "id": "tMIRg8NTCG1B",
        "colab_type": "code",
        "colab": {}
      },
      "source": [
        "img_path = Path('/content/AerialImageDataset/train/images')\n",
        "mask_path = Path('/content/AerialImageDataset/train/gt')\n",
        "test_path = Path('/content/AerialImageDataset/test/images')\n",
        "valid_path = Path('/content/AerialImageDataset/valid')\n",
        "\n",
        "images_patch_path = Path('/content/AerialImagePatches/train')\n",
        "masks_patch_path = Path('/content/AerialImagePatches/masks')\n",
        "tests_patch_path = Path('/content/AerialImagePatches/test')\n",
        "valids_patch_path = Path('/content/AerialImagePatches/valid')"
      ],
      "execution_count": 0,
      "outputs": []
    },
    {
      "cell_type": "markdown",
      "metadata": {
        "id": "oUe_KfYrfr2O",
        "colab_type": "text"
      },
      "source": [
        "Split train to valid by moving the first 5 images from each city to valid folder"
      ]
    },
    {
      "cell_type": "code",
      "metadata": {
        "id": "_SRR9XrzfqM4",
        "colab_type": "code",
        "colab": {}
      },
      "source": [
        "#move first five images from each city for valid hold outs\n",
        "\n",
        "def train_valid_split(src: str, dst: str):\n",
        "  if not os.path.isdir(dst):\n",
        "    dst.mkdir(parents=True, exist_ok=True)\n",
        "  for file in os.listdir(src):\n",
        "    if re.match(\"[a-zA-Z]*[1-5]{1}\\.tif\", file) or re.match(\"[a-zA-Z]*-\\w[1-5]{1}\\.tif\", file):\n",
        "      shutil.move(src/file, dst/file)\n",
        "        \n",
        "train_valid_split(img_path,valid_path)"
      ],
      "execution_count": 0,
      "outputs": []
    },
    {
      "cell_type": "markdown",
      "metadata": {
        "id": "pBCUlr0uQ0_H",
        "colab_type": "text"
      },
      "source": [
        "Clean up any previously created folder for AerialImagePatches."
      ]
    },
    {
      "cell_type": "code",
      "metadata": {
        "id": "uiYVAHaMQ94Y",
        "colab_type": "code",
        "colab": {}
      },
      "source": [
        "!rm -rf AerialImagePatches"
      ],
      "execution_count": 0,
      "outputs": []
    },
    {
      "cell_type": "markdown",
      "metadata": {
        "id": "w8HzXjLFDkvG",
        "colab_type": "text"
      },
      "source": [
        "Functions to generate patches of 250 X 250 from 5k X 5k images and save it for training model."
      ]
    },
    {
      "cell_type": "code",
      "metadata": {
        "id": "-Svtt1GHNiEw",
        "colab_type": "code",
        "outputId": "8aaf048e-c754-4997-e4b1-840e5f919895",
        "colab": {
          "base_uri": "https://localhost:8080/",
          "height": 97
        }
      },
      "source": [
        "orig_images = ImageList.from_folder(img_path)\n",
        "orig_valids = ImageList.from_folder(valid_path)\n",
        "orig_masks = ImageList.from_folder(mask_path)\n",
        "orig_tests = ImageList.from_folder(test_path)\n",
        "\n",
        "get_patch_file_name = lambda pth,x,y: pth/f'{x.stem.split(\"/\")[-1]}_{y}.tif'\n",
        "\n",
        "channels = 3\n",
        "size = 250\n",
        "step = 250\n",
        "\n",
        "\n",
        "def generate_patches(image, i, dest_img_path, channels:int, size:int, step:int):\n",
        "  img = open_image(image)\n",
        "  patches = img.data.unfold(0, channels, channels).unfold(1, size, step).unfold(2, size, step)\n",
        "  cnt=1\n",
        "  for i in range(patches.shape[0]):\n",
        "    for j in range(patches.shape[1]):\n",
        "      for k in range(patches.shape[2]):\n",
        "        patch = patches[i][j][k]\n",
        "        imgpil = F.to_pil_image(patch)\n",
        "        filname = get_patch_file_name(dest_img_path, image, cnt)\n",
        "        cnt=cnt+1\n",
        "        imgpil.save(filname)\n",
        "\n",
        "# create smaller patch sets \n",
        "sets = [(orig_images,images_patch_path,channels,size,step),(orig_valids,valids_patch_path,channels,size,step),(orig_masks, masks_patch_path,channels,size,step),(orig_tests,tests_patch_path,channels,size,step)]\n",
        "for img_lst,dst_path,channels,size,step in sets:\n",
        "  if not dst_path.exists():\n",
        "    dst_path.mkdir(parents=True, exist_ok=True)\n",
        "  parallel(partial(generate_patches, dest_img_path=dst_path, channels=channels, size=size, step=step), img_lst.items)\n",
        "\n",
        "        "
      ],
      "execution_count": 9,
      "outputs": [
        {
          "output_type": "display_data",
          "data": {
            "text/html": [
              "\n",
              "    <div>\n",
              "        <style>\n",
              "            /* Turns off some styling */\n",
              "            progress {\n",
              "                /* gets rid of default border in Firefox and Opera. */\n",
              "                border: none;\n",
              "                /* Needs to be in here for Safari polyfill so background images work as expected. */\n",
              "                background-size: auto;\n",
              "            }\n",
              "            .progress-bar-interrupted, .progress-bar-interrupted::-webkit-progress-bar {\n",
              "                background: #F44336;\n",
              "            }\n",
              "        </style>\n",
              "      <progress value='155' class='' max='155', style='width:300px; height:20px; vertical-align: middle;'></progress>\n",
              "      100.00% [155/155 03:44<00:00]\n",
              "    </div>\n",
              "    "
            ],
            "text/plain": [
              "<IPython.core.display.HTML object>"
            ]
          },
          "metadata": {
            "tags": []
          }
        },
        {
          "output_type": "display_data",
          "data": {
            "text/html": [
              "\n",
              "    <div>\n",
              "        <style>\n",
              "            /* Turns off some styling */\n",
              "            progress {\n",
              "                /* gets rid of default border in Firefox and Opera. */\n",
              "                border: none;\n",
              "                /* Needs to be in here for Safari polyfill so background images work as expected. */\n",
              "                background-size: auto;\n",
              "            }\n",
              "            .progress-bar-interrupted, .progress-bar-interrupted::-webkit-progress-bar {\n",
              "                background: #F44336;\n",
              "            }\n",
              "        </style>\n",
              "      <progress value='25' class='' max='25', style='width:300px; height:20px; vertical-align: middle;'></progress>\n",
              "      100.00% [25/25 00:40<00:00]\n",
              "    </div>\n",
              "    "
            ],
            "text/plain": [
              "<IPython.core.display.HTML object>"
            ]
          },
          "metadata": {
            "tags": []
          }
        },
        {
          "output_type": "display_data",
          "data": {
            "text/html": [
              "\n",
              "    <div>\n",
              "        <style>\n",
              "            /* Turns off some styling */\n",
              "            progress {\n",
              "                /* gets rid of default border in Firefox and Opera. */\n",
              "                border: none;\n",
              "                /* Needs to be in here for Safari polyfill so background images work as expected. */\n",
              "                background-size: auto;\n",
              "            }\n",
              "            .progress-bar-interrupted, .progress-bar-interrupted::-webkit-progress-bar {\n",
              "                background: #F44336;\n",
              "            }\n",
              "        </style>\n",
              "      <progress value='180' class='' max='180', style='width:300px; height:20px; vertical-align: middle;'></progress>\n",
              "      100.00% [180/180 03:29<00:00]\n",
              "    </div>\n",
              "    "
            ],
            "text/plain": [
              "<IPython.core.display.HTML object>"
            ]
          },
          "metadata": {
            "tags": []
          }
        },
        {
          "output_type": "display_data",
          "data": {
            "text/html": [
              "\n",
              "    <div>\n",
              "        <style>\n",
              "            /* Turns off some styling */\n",
              "            progress {\n",
              "                /* gets rid of default border in Firefox and Opera. */\n",
              "                border: none;\n",
              "                /* Needs to be in here for Safari polyfill so background images work as expected. */\n",
              "                background-size: auto;\n",
              "            }\n",
              "            .progress-bar-interrupted, .progress-bar-interrupted::-webkit-progress-bar {\n",
              "                background: #F44336;\n",
              "            }\n",
              "        </style>\n",
              "      <progress value='180' class='' max='180', style='width:300px; height:20px; vertical-align: middle;'></progress>\n",
              "      100.00% [180/180 04:27<00:00]\n",
              "    </div>\n",
              "    "
            ],
            "text/plain": [
              "<IPython.core.display.HTML object>"
            ]
          },
          "metadata": {
            "tags": []
          }
        }
      ]
    },
    {
      "cell_type": "markdown",
      "metadata": {
        "id": "m4vtpgi3EIsu",
        "colab_type": "text"
      },
      "source": [
        "Now, the training set of 180 images of 5k x 5k is converted into a training set of 60450 patches of 250 x 250 each, along with corresponding 60450 patches for the masks as well. Valid set contains 9750 patches of 250 x 250."
      ]
    },
    {
      "cell_type": "code",
      "metadata": {
        "id": "yqJXDynVb3om",
        "colab_type": "code",
        "outputId": "347539ce-73c7-43a1-bde7-c7bfeb132d49",
        "colab": {
          "base_uri": "https://localhost:8080/",
          "height": 34
        }
      },
      "source": [
        "len(get_image_files(img_path)),len(get_image_files(mask_path)),len(get_image_files(valid_path))"
      ],
      "execution_count": 10,
      "outputs": [
        {
          "output_type": "execute_result",
          "data": {
            "text/plain": [
              "(155, 180, 25)"
            ]
          },
          "metadata": {
            "tags": []
          },
          "execution_count": 10
        }
      ]
    },
    {
      "cell_type": "code",
      "metadata": {
        "id": "dxuBnW9AbDgf",
        "colab_type": "code",
        "outputId": "d8e0348d-7371-4305-c40f-af1f0de705b4",
        "colab": {
          "base_uri": "https://localhost:8080/",
          "height": 34
        }
      },
      "source": [
        "len(get_image_files(images_patch_path)),len(get_image_files(masks_patch_path)), len(get_image_files(valids_patch_path))\n"
      ],
      "execution_count": 11,
      "outputs": [
        {
          "output_type": "execute_result",
          "data": {
            "text/plain": [
              "(62000, 72000, 10000)"
            ]
          },
          "metadata": {
            "tags": []
          },
          "execution_count": 11
        }
      ]
    },
    {
      "cell_type": "markdown",
      "metadata": {
        "id": "MJfXmmLijpq0",
        "colab_type": "text"
      },
      "source": [
        "Function to create tar file for moving to Drive for future use. This helps in avoiding redundant preprocessing each time."
      ]
    },
    {
      "cell_type": "code",
      "metadata": {
        "id": "wQA2w_khnWiq",
        "colab_type": "code",
        "colab": {}
      },
      "source": [
        "train_source_dir = '/content/AerialImagePatches/train'\n",
        "valid_source_dir = '/content/AerialImagePatches/valid'\n",
        "mask_source_dir = '/content/AerialImagePatches/masks'\n",
        "test_source_dir = '/content/AerialImagePatches/test'\n",
        "\n",
        "def make_tarfile(output_filename, source_dir):\n",
        "  with tarfile.open(output_filename, \"w:gz\") as tar:\n",
        "    tar.add(source_dir, arcname=os.path.basename(source_dir))"
      ],
      "execution_count": 0,
      "outputs": []
    },
    {
      "cell_type": "code",
      "metadata": {
        "id": "f0j8JTMfG3sL",
        "colab_type": "code",
        "colab": {}
      },
      "source": [
        "make_tarfile('train.tar', train_source_dir)"
      ],
      "execution_count": 0,
      "outputs": []
    },
    {
      "cell_type": "code",
      "metadata": {
        "id": "Io1NoYQ7xHNR",
        "colab_type": "code",
        "colab": {}
      },
      "source": [
        "make_tarfile('masks.tar', mask_source_dir)"
      ],
      "execution_count": 0,
      "outputs": []
    },
    {
      "cell_type": "code",
      "metadata": {
        "id": "F6ej7bU8ntH3",
        "colab_type": "code",
        "colab": {}
      },
      "source": [
        "make_tarfile('valid.tar', valid_source_dir)"
      ],
      "execution_count": 0,
      "outputs": []
    },
    {
      "cell_type": "code",
      "metadata": {
        "id": "3c78IQr-knMW",
        "colab_type": "code",
        "colab": {}
      },
      "source": [
        "# Tar test folder only when needed as Drive only has 15GB by default\n",
        "make_tarfile('test.tar', test_source_dir)"
      ],
      "execution_count": 0,
      "outputs": []
    },
    {
      "cell_type": "markdown",
      "metadata": {
        "id": "_B82GCKalFho",
        "colab_type": "text"
      },
      "source": [
        "Function to upload to drive"
      ]
    },
    {
      "cell_type": "code",
      "metadata": {
        "id": "f2PEoLX6bDIM",
        "colab_type": "code",
        "colab": {}
      },
      "source": [
        "# Create GoogleDrive instance with authenticated GoogleAuth instance.\n",
        "drive = GoogleDrive(gauth)\n",
        "\n",
        "def upload_to_drive(file, title):\n",
        "  uploaded = drive.CreateFile({'title': title})\n",
        "  uploaded.SetContentFile(file)\n",
        "  uploaded.Upload()\n",
        "  print('Uploaded file %s with ID %s'%(file, uploaded.get('id')))\n"
      ],
      "execution_count": 0,
      "outputs": []
    },
    {
      "cell_type": "code",
      "metadata": {
        "id": "ld8Wr3o3llFk",
        "colab_type": "code",
        "outputId": "961adfb2-c98d-40b4-f8f7-9ca30b59be25",
        "colab": {
          "base_uri": "https://localhost:8080/",
          "height": 34
        }
      },
      "source": [
        "upload_to_drive(\"train.tar\",\"train.tar\")"
      ],
      "execution_count": 0,
      "outputs": [
        {
          "output_type": "stream",
          "text": [
            "Uploaded file train.tar with ID 19CRJJKooMk_4LKZJukh7wUfvX81TBoCb\n"
          ],
          "name": "stdout"
        }
      ]
    },
    {
      "cell_type": "code",
      "metadata": {
        "id": "i85HBtFDlzay",
        "colab_type": "code",
        "outputId": "853c361f-a17d-437b-cafd-8257c5ae2e6a",
        "colab": {
          "base_uri": "https://localhost:8080/",
          "height": 34
        }
      },
      "source": [
        "upload_to_drive(\"masks.tar\",\"masks.tar\")"
      ],
      "execution_count": 0,
      "outputs": [
        {
          "output_type": "stream",
          "text": [
            "Uploaded file masks.tar with ID 1LR_-vt0ZiByEirBCqd1wkHk__JexrRBA\n"
          ],
          "name": "stdout"
        }
      ]
    },
    {
      "cell_type": "code",
      "metadata": {
        "id": "dbkeYl04efPO",
        "colab_type": "code",
        "outputId": "f165df0f-e80f-4e02-81f3-56e96d85f841",
        "colab": {
          "base_uri": "https://localhost:8080/",
          "height": 34
        }
      },
      "source": [
        "upload_to_drive(\"valid.tar\",\"valid.tar\")"
      ],
      "execution_count": 0,
      "outputs": [
        {
          "output_type": "stream",
          "text": [
            "Uploaded file valid.tar with ID 1dtRfpwEhQsBOHj6_7ztsW-8QTsbviazq\n"
          ],
          "name": "stdout"
        }
      ]
    },
    {
      "cell_type": "code",
      "metadata": {
        "id": "tECv-wTJml8o",
        "colab_type": "code",
        "outputId": "3b797abf-0bb4-42c6-c330-a7a0cc0745ee",
        "colab": {
          "base_uri": "https://localhost:8080/",
          "height": 34
        }
      },
      "source": [
        "upload_to_drive(\"test.tar\",\"test.tar\")"
      ],
      "execution_count": 0,
      "outputs": [
        {
          "output_type": "stream",
          "text": [
            "Uploaded file test.tar with ID 1RauzUyps0DRDe9FBUdRzPtAQrVnvquHE\n"
          ],
          "name": "stdout"
        }
      ]
    },
    {
      "cell_type": "code",
      "metadata": {
        "id": "2GFNkc41lvgL",
        "colab_type": "code",
        "colab": {}
      },
      "source": [
        ""
      ],
      "execution_count": 0,
      "outputs": []
    }
  ]
}