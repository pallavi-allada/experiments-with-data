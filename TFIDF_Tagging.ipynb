{
 "cells": [
  {
   "cell_type": "code",
   "execution_count": 259,
   "metadata": {},
   "outputs": [],
   "source": [
    "from sklearn.feature_extraction.text import TfidfVectorizer\n",
    "import pandas as pd\n",
    "from nltk.corpus import stopwords\n",
    "import re\n",
    "import nltk\n",
    "import csv\n",
    "from nltk.stem.snowball import SnowballStemmer"
   ]
  },
  {
   "cell_type": "raw",
   "metadata": {},
   "source": [
    "#Read the amazon reviews from the CSV file and load them into Pandas dataframe\n"
   ]
  },
  {
   "cell_type": "code",
   "execution_count": 260,
   "metadata": {},
   "outputs": [],
   "source": [
    "reviewsFrame = pd.read_csv('Reviews.csv', nrows=2000)"
   ]
  },
  {
   "cell_type": "code",
   "execution_count": 262,
   "metadata": {},
   "outputs": [],
   "source": [
    "def remove_punctuation(reviewStr):\n",
    "    reviewStr = re.sub(r\"[,.;@#?!&$-:/'_]+\\ *\", \" \", reviewStr)\n",
    "    reviewStr = reviewStr.replace('\"','')\n",
    "    reviewStr = reviewStr.replace('\\\\','')\n",
    "    return reviewStr\n",
    "    "
   ]
  },
  {
   "cell_type": "code",
   "execution_count": 263,
   "metadata": {},
   "outputs": [],
   "source": [
    "def remove_stop_words(reviewStr):\n",
    "    stopset = stopwords.words('english')\n",
    "    #stopset.extend([\"even\",\"ever\",\"\",\"wan\",\"na\",\"www\",\"whose\",\"html\",\"all\",\"you\",\"your\",\"i\",\"but\",\"every\",\"also\",\"got\",\"must\",\"still\",\"going\",\"it\",\"want\",\"yup\",\"wassup\",\"without\"])\n",
    "    sep = \" \"\n",
    "    return sep.join(filter(lambda x: x not in stopset, reviewStr.lower().split()))"
   ]
  },
  {
   "cell_type": "code",
   "execution_count": 264,
   "metadata": {},
   "outputs": [],
   "source": [
    "def remove_pos_stopwords(reviewStr):\n",
    "    STOP_TYPES = ['DET', 'CNJ']\n",
    "    tokens = nltk.pos_tag(nltk.word_tokenize(reviewStr))\n",
    "    return \" \".join([w for w, wtype in tokens if wtype not in STOP_TYPES])\n",
    "\n"
   ]
  },
  {
   "cell_type": "code",
   "execution_count": 265,
   "metadata": {},
   "outputs": [],
   "source": [
    "def remove_stems(reviewStr):\n",
    "    ps = SnowballStemmer(\"english\")\n",
    "    reviewStr = \" \".join([ps.stem(word) for word in reviewStr.split(\" \")])\n",
    "    return reviewStr"
   ]
  },
  {
   "cell_type": "code",
   "execution_count": 266,
   "metadata": {},
   "outputs": [],
   "source": [
    "reviewsFrame['ProcessedText'] = reviewsFrame['Text'].apply(remove_punctuation)"
   ]
  },
  {
   "cell_type": "code",
   "execution_count": 268,
   "metadata": {},
   "outputs": [],
   "source": [
    "reviewsFrame['ProcessedText'] = reviewsFrame['ProcessedText'].apply(remove_stop_words)"
   ]
  },
  {
   "cell_type": "code",
   "execution_count": 270,
   "metadata": {},
   "outputs": [],
   "source": [
    "reviewsFrame['ProcessedText'] = reviewsFrame['ProcessedText'].apply(remove_pos_stopwords)\n"
   ]
  },
  {
   "cell_type": "code",
   "execution_count": 272,
   "metadata": {},
   "outputs": [],
   "source": [
    "vectorizer = TfidfVectorizer(ngram_range=(1,1),stop_words = 'english')"
   ]
  },
  {
   "cell_type": "code",
   "execution_count": 273,
   "metadata": {},
   "outputs": [],
   "source": [
    "tfidfMat = vectorizer.fit_transform(reviewsFrame['ProcessedText'])"
   ]
  },
  {
   "cell_type": "code",
   "execution_count": 274,
   "metadata": {},
   "outputs": [],
   "source": [
    "feature_names = vectorizer.get_feature_names() "
   ]
  },
  {
   "cell_type": "code",
   "execution_count": 276,
   "metadata": {},
   "outputs": [],
   "source": [
    "dense= tfidfMat.todense()"
   ]
  },
  {
   "cell_type": "code",
   "execution_count": 248,
   "metadata": {},
   "outputs": [],
   "source": [
    "with open(\"tfidf_scikit.csv\", \"w\") as file:\n",
    "    writer = csv.writer(file, delimiter=\",\")\n",
    "    writer.writerow([\"ReviewId\",\"Word\", \"Score\"])\n",
    "    \n",
    "    doc_id = 0\n",
    "    for doc in dense:\n",
    "        word_id = 0\n",
    "        for score in doc.tolist()[0]:  \n",
    "            if score > 0 :\n",
    "                word = feature_names[word_id]\n",
    "                writer.writerow([doc_id+1, word.encode(\"utf-8\"), score])\n",
    "            word_id +=1\n",
    "        doc_id +=1"
   ]
  }
 ],
 "metadata": {
  "kernelspec": {
   "display_name": "Python 3",
   "language": "python",
   "name": "python3"
  },
  "language_info": {
   "codemirror_mode": {
    "name": "ipython",
    "version": 3
   },
   "file_extension": ".py",
   "mimetype": "text/x-python",
   "name": "python",
   "nbconvert_exporter": "python",
   "pygments_lexer": "ipython3",
   "version": "3.6.5"
  }
 },
 "nbformat": 4,
 "nbformat_minor": 2
}
